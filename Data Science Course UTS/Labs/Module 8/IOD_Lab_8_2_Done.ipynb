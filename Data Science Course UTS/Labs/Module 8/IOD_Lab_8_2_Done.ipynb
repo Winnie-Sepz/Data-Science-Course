{
 "cells": [
  {
   "cell_type": "markdown",
   "metadata": {
    "id": "zYPZ2MKXMk4U"
   },
   "source": [
    "<div>\n",
    "<img src=https://www.institutedata.com/wp-content/uploads/2019/10/iod_h_tp_primary_c.svg width=\"300\">\n",
    "</div>"
   ]
  },
  {
   "cell_type": "markdown",
   "metadata": {
    "id": "8j6-MfKHMk4Y"
   },
   "source": [
    "# Lab 8.2: Web Scraping\n",
    "INSTRUCTIONS:\n",
    "- Read the guides and hints then create the necessary analysis and code to find an answer and conclusion for the task below."
   ]
  },
  {
   "cell_type": "markdown",
   "metadata": {
    "id": "HImUFlzCMk4c"
   },
   "source": [
    "# Web Scraping in Python (using BeautifulSoup)\n",
    "\n",
    "## Scraping Rules\n",
    "1. **Always** check a website’s **Terms and Conditions** before you scrape it. Be careful to read the statements about legal use of data. Usually, the retrieved data should not be used for commercial purposes.\n",
    "2. **Do not** request data from the website too aggressively with a program (also known as spamming), as this may break the website. Make sure the program behaves in a reasonable manner (i.e. acts like a human). One request for one webpage per second is good practice.\n",
    "3. The layout of a website may change from time to time, so make sure to revisit the site and rewrite the code as needed"
   ]
  },
  {
   "cell_type": "markdown",
   "metadata": {
    "id": "l6UcvsYfMk4f"
   },
   "source": [
    "## Find a Page\n",
    "Visit the [Fandom](http://fandom.wikia.com) website, find a wikia of your interest and pick a page to work with."
   ]
  },
  {
   "cell_type": "markdown",
   "metadata": {
    "id": "-NXv6z-6Mk4i"
   },
   "source": [
    "Open a web page with the browser and inspect it.\n",
    "\n",
    "Hover the cursor on the text and follow the shaded box surrounding the main text.\n",
    "\n",
    "From the result, check the main text inside a few levels of HTML tags."
   ]
  },
  {
   "cell_type": "code",
   "execution_count": 1,
   "metadata": {
    "id": "nYkrA5JuMk4m"
   },
   "outputs": [],
   "source": [
    "## Import Libraries\n",
    "import urllib3\n",
    "from bs4 import BeautifulSoup\n",
    "from urllib.parse import unquote\n",
    "import warnings\n",
    "warnings.filterwarnings('ignore')\n",
    "import regex as re"
   ]
  },
  {
   "cell_type": "markdown",
   "metadata": {
    "id": "hb3_djX0Mk4s"
   },
   "source": [
    "### Define the content to retrieve (webpage's URL)"
   ]
  },
  {
   "cell_type": "code",
   "execution_count": 2,
   "metadata": {},
   "outputs": [],
   "source": [
    "quote_page = 'https://www.fandom.com/articles/loki-psychology-mcu-marvel'"
   ]
  },
  {
   "cell_type": "markdown",
   "metadata": {
    "id": "pKYTTGA1Mk4t"
   },
   "source": [
    "### Retrieve the page\n",
    "- Require Internet connection"
   ]
  },
  {
   "cell_type": "code",
   "execution_count": 23,
   "metadata": {},
   "outputs": [
    {
     "name": "stdout",
     "output_type": "stream",
     "text": [
      "Retrieved. Request Status: 200, Page Size: 128382\n",
      "Page variable type 'page': bytes\n"
     ]
    }
   ],
   "source": [
    "http = urllib3.PoolManager()\n",
    "r = http.request('GET', quote_page)\n",
    "if r.status == 200:\n",
    "    page = r.data\n",
    "    print('Retrieved. Request Status: %d, Page Size: %d' % (r.status, len(page)))\n",
    "    print('Page variable type \\'page\\':', page.__class__.__name__)    \n",
    "else:\n",
    "    print('Error. Request Status: %s' % r.status)"
   ]
  },
  {
   "cell_type": "markdown",
   "metadata": {
    "id": "w7HYoOoDMk4v"
   },
   "source": [
    "### Convert the stream of bytes into a BeautifulSoup representation"
   ]
  },
  {
   "cell_type": "code",
   "execution_count": 24,
   "metadata": {},
   "outputs": [
    {
     "name": "stdout",
     "output_type": "stream",
     "text": [
      "Page variable type 'soup': BeautifulSoup\n"
     ]
    }
   ],
   "source": [
    "soup = BeautifulSoup(page, 'html.parser')\n",
    "print('Page variable type \\'soup\\':', soup.__class__.__name__)"
   ]
  },
  {
   "cell_type": "markdown",
   "metadata": {
    "id": "Zb0yHBblMk4w"
   },
   "source": [
    "### Check the content\n",
    "- The HTML source\n",
    "- Includes all tags and scripts\n",
    "- Can be long!"
   ]
  },
  {
   "cell_type": "code",
   "execution_count": 5,
   "metadata": {},
   "outputs": [
    {
     "name": "stdout",
     "output_type": "stream",
     "text": [
      "<!DOCTYPE html>\n",
      "<html lang=\"en\" prefix=\"og: http://ogp.me/ns#\">\n",
      " <head>\n",
      "  <meta charset=\"utf-8\"/>\n",
      "  <title>\n",
      "   The God of Mischief Who Would be King: The Psychology of Loki | Fandom\n",
      "  </title>\n",
      "  <meta content=\"ie=edge\" http-equiv=\"x-ua-compatible\"/>\n",
      "  <meta content=\"width=device-width, initial-scale=1\" name=\"viewport\"/>\n",
      "  <link href=\"https://www.fandom.com/f2/assets/favicons/apple-touch-icon.png?v=76825e58ec45f2db300a1ad70b034309c5474765\" rel=\"apple-touch-icon\" sizes=\"180x180\"/>\n",
      "  <link href=\"https://www.fandom.com/f2/assets/favicons/favicon-32x32.png?v=76825e58ec45f2db300a1ad70b034309c5474765\" rel=\"icon\" sizes=\"32x32\" type=\"image/png\"/>\n",
      "  <link href=\"https://www.fandom.com/f2/assets/favicons/favicon-16x16.png?v=76825e58ec45f2db300a1ad70b034309c5474765\" rel=\"icon\" sizes=\"16x16\" type=\"image/png\"/>\n",
      "  <link href=\"https://www.fandom.com/f2/assets/favicons/manifest.json?v=76825e58ec45f2db300a1ad70b034309c5474765\" rel=\"manifest\"/>\n",
      "  <link href=\"https://www.fandom.com/f2/assets/favicons/favicon.ico?v=76825e58ec45f2db300a1ad70b034309c5474765\" rel=\"shortcut icon\"/>\n",
      "  <meta content=\"https://www.fandom.com/f2/assets/favicons/browserconfig.xml?v=76825e58ec45f2db300a1ad70b034309c5474765\" name=\"msapplication-config\"/>\n",
      "  <meta content=\"Fandom\" name=\"apple-mobile-web-app-title\"/>\n",
      "  <meta content=\"Fandom\" name=\"application-name\"/>\n",
      "  <meta content=\"#ffffff\" name=\"theme-color\"/>\n",
      "  <meta content=\"gpjDSKft3IX1rWylaTa_VAAgbn0SoAbo2VWfrqTxeB8\" name=\"google-site-verification\"/>\n",
      "  <script>\n",
      "   window.fandom = {\"ads\":{\"adStack\":[],\"runtime\":[]},\"config\":{\"environment\":{\"debug\":false,\"env\":\"prod\",\"locale\":\"en\",\"siteType\":\"web\"},\"assetPath\":\"https:\\/\\/www.fandom.com\\/f2\\/assets\",\"tracking\":{\"googleAnalytics\":{\"accounts\":{\"production\":[{\"id\":\"UA-71552437-1\",\"name\":\"fandomProd\",\"sampleRate\":100},{\"id\":\"UA-32129070-1\",\"name\":\"wikiSampledProd\",\"sampleRate\":100},{\"id\":\"UA-32132943-1\",\"name\":\"wikiUnsampledProd\",\"sampleRate\":100}],\"development\":[{\"id\":\"UA-71552437-2\",\"name\":\"fandomDev\",\"sampleRate\":10\n"
     ]
    }
   ],
   "source": [
    "print(soup.prettify()[:2000])"
   ]
  },
  {
   "cell_type": "markdown",
   "metadata": {
    "id": "Hy2z1218Mk4x"
   },
   "source": [
    "### Check the HTML's Title"
   ]
  },
  {
   "cell_type": "code",
   "execution_count": 26,
   "metadata": {},
   "outputs": [
    {
     "name": "stdout",
     "output_type": "stream",
     "text": [
      "Text-Title:The God of Mischief Who Would be King: The Psychology of Loki | Fandom:\n",
      "Tag-Title :<title>The God of Mischief Who Would be King: The Psychology of Loki | Fandom</title>:\n"
     ]
    }
   ],
   "source": [
    "print('Text-Title:%s:' % soup.title.string)\n",
    "print('Tag-Title :%s:' % soup.title)"
   ]
  },
  {
   "cell_type": "markdown",
   "metadata": {
    "id": "NV3IJlHQMk4z"
   },
   "source": [
    "### Find the main content\n",
    "- Check if it is possible to use only the relevant data"
   ]
  },
  {
   "cell_type": "code",
   "execution_count": 27,
   "metadata": {},
   "outputs": [
    {
     "name": "stdout",
     "output_type": "stream",
     "text": [
      "Variable type 'article': Tag\n"
     ]
    }
   ],
   "source": [
    "article_tag = 'article'\n",
    "article = soup.find_all(article_tag)[0]\n",
    "print('Variable type \\'article\\':', article.__class__.__name__)"
   ]
  },
  {
   "cell_type": "markdown",
   "metadata": {
    "id": "sEioc2exMk40"
   },
   "source": [
    "### Get some of the text\n",
    "- Plain text without HTML tags"
   ]
  },
  {
   "cell_type": "code",
   "execution_count": 8,
   "metadata": {},
   "outputs": [
    {
     "name": "stdout",
     "output_type": "stream",
     "text": [
      "\n",
      "The God of Mischief Who Would be King: The Psychology of Loki\n",
      "Drea Letamendi\n",
      "\t\t\t3d\n",
      "\t\t\n",
      "TV\n",
      "Movies\n",
      "TV\n",
      "Movies\n",
      "Comics\n",
      "Streaming\n",
      "Marvel\n",
      "You can’t keep a good God of Mischief down! Loki is about to return in the new Disney+ series, Loki, debuting June 9 – well, sort of, given Loki really and truly died in Avengers: Infinity War. But as seen in Avengers: Endgame, there is now a divergent timeline Loki running amok, who escaped with the Tesseract. We’ve seen Loki at some huge extremes, as both hero and villain, but what motivates him? Clinical psychologist Dr. Drea Letamendi provides us with all the info below…\n",
      "Meet Loki\n",
      "Loki Odinson wished to be extraordinary, remarkable, and illustrious. Surrounded by the ostentatious milieu of gods, rulers, and royalty, and raised among the symbology and mythos of intergalactic warfare, Loki developed the belief that one’s worthiness was intrinsically derived from power. In truth, Loki earned his feelings of supremacy, mastering an impressive amount of form\n"
     ]
    }
   ],
   "source": [
    "print(re.sub(r'\\n\\n+', '\\n', article.text)[:1000])"
   ]
  },
  {
   "cell_type": "markdown",
   "metadata": {
    "id": "Gdf3no5jMk41"
   },
   "source": [
    "### Find the links in the text"
   ]
  },
  {
   "cell_type": "code",
   "execution_count": 9,
   "metadata": {},
   "outputs": [
    {
     "name": "stdout",
     "output_type": "stream",
     "text": [
      "<a class=\"article-header__author\" href=\"https://www.fandom.com/u/Doctor%20Drea\">\n",
      "<span class=\"author vcard\">\n",
      "<span class=\"author-name fn\">Drea Letamendi</span>\n",
      "</span>\n",
      "</a>\n",
      "<a class=\"article-topic-tags__tag\" data-tracking='{\"category\":\"card\",\"label\":\"topic.link\",\"action\":136080,\"post_id\":136080}' href=\"https://www.fandom.com/topics/tv\" target=\"_top\">TV</a>\n",
      "<a class=\"article-topic-tags__tag\" data-tracking='{\"category\":\"card\",\"label\":\"topic.link\",\"action\":136080,\"post_id\":136080}' href=\"https://www.fandom.com/topics/movies\" target=\"_top\">Movies</a>\n",
      "<a class=\"article-topic-tags__tag\" data-tracking='{\"category\":\"card\",\"label\":\"topic.link\",\"action\":136080,\"post_id\":136080}' href=\"https://www.fandom.com/topics/tv\" target=\"_top\">TV</a>\n",
      "<a class=\"article-topic-tags__tag\" data-tracking='{\"category\":\"card\",\"label\":\"topic.link\",\"action\":136080,\"post_id\":136080}' href=\"https://www.fandom.com/topics/movies\" target=\"_top\">Movies</a>\n",
      "<a class=\"article-topic-tags__tag\" data-tracking='{\"category\":\"card\",\"label\":\"topic.link\",\"action\":136080,\"post_id\":136080}' href=\"https://www.fandom.com/topics/comics\" target=\"_top\">Comics</a>\n",
      "<a class=\"article-topic-tags__tag\" data-tracking='{\"category\":\"card\",\"label\":\"topic.link\",\"action\":136080,\"post_id\":136080}' href=\"https://www.fandom.com/topics/streaming\" target=\"_top\">Streaming</a>\n",
      "<a class=\"article-topic-tags__tag\" data-tracking='{\"category\":\"card\",\"label\":\"topic.link\",\"action\":136080,\"post_id\":136080}' href=\"https://www.fandom.com/topics/marvel\" target=\"_top\">Marvel</a>\n",
      "<a class=\"article-share__button is-facebook\" data-open-in-window=\"\" href=\"https://www.facebook.com/sharer/sharer.php?u=https%3A%2F%2Fwww.fandom.com%2Farticles%2Floki-psychology-mcu-marvel\" title=\"Facebook\">\n",
      "<svg alt=\"\" class=\"wds-icon\">\n",
      "<use xlink:href=\"#wds-icons-facebook\" xmlns:xlink=\"http://www.w3.org/1999/xlink\"></use>\n",
      "</svg>\n",
      "</a>\n",
      "<a class=\"article-share__button is-twitter\" data-open-in-window=\"\" href=\"https://twitter.com/share?url=https%3A%2F%2Fwww.fandom.com%2Farticles%2Floki-psychology-mcu-marvel\" title=\"Twitter\">\n",
      "<svg alt=\"\" class=\"wds-icon\">\n",
      "<use xlink:href=\"#wds-icons-twitter\" xmlns:xlink=\"http://www.w3.org/1999/xlink\"></use>\n",
      "</svg>\n",
      "</a>\n",
      "<a class=\"article-share__button is-reddit\" data-open-in-window=\"\" href=\"http://www.reddit.com/submit?url=https%3A%2F%2Fwww.fandom.com%2Farticles%2Floki-psychology-mcu-marvel\" title=\"Reddit\">\n",
      "<svg alt=\"\" class=\"wds-icon\">\n",
      "<use xlink:href=\"#wds-icons-reddit\" xmlns:xlink=\"http://www.w3.org/1999/xlink\"></use>\n",
      "</svg>\n",
      "</a>\n",
      "<a href=\"https://marvelcinematicuniverse.fandom.com/wiki/Loki_(TV_series)\" title=\"Loki (TV series)\">Loki</a>\n",
      "<a href=\"https://marvelcinematicuniverse.fandom.com/wiki/Avengers:_Infinity_War\" title=\"Avengers: Infinity War\">Avengers: Infinity War</a>\n",
      "<a href=\"https://marvelcinematicuniverse.fandom.com/wiki/Avengers:_Endgame\" title=\"Avengers: Endgame\"> Avengers: Endgame</a>\n",
      "<a href=\"https://marvelcinematicuniverse.fandom.com/wiki/Tesseract\" title=\"Tesseract\"> Tesseract</a>\n",
      "<a href=\"https://marvelcinematicuniverse.fandom.com/wiki/Loki\">Loki Odinson</a>\n",
      "<a href=\"https://marvelcinematicuniverse.fandom.com/wiki/Thor\" title=\"Thor\">Thor</a>\n",
      "<a href=\"https://marvelcinematicuniverse.fandom.com/wiki/Odin\" title=\"Odin\">Odin</a>\n",
      "<a href=\"https://marvelcinematicuniverse.fandom.com/wiki/Asgard\" title=\"Asgard\">Asgard</a>\n",
      "<a href=\"https://marvelcinematicuniverse.fandom.com/wiki/Nine_Realms\" title=\"Nine Realms\">Nine Realms</a>\n",
      "<a href=\"https://marvelcinematicuniverse.fandom.com/wiki/Frigga\" title=\"Frigga\">Frigga</a>\n",
      "<a href=\"https://marvelcinematicuniverse.fandom.com/wiki/Jotunheim\">home planet</a>\n",
      "<a href=\"https://marvelcinematicuniverse.fandom.com/wiki/Frost_Giants\" title=\"Frost Giants\">Frost Giants</a>\n",
      "<a href=\"https://marvelcinematicuniverse.fandom.com/wiki/Chitauri\" title=\"Chitauri\">Chitauri</a>\n",
      "<a href=\"https://marvelcinematicuniverse.fandom.com/wiki/Thanos\" title=\"Thanos\">Thanos</a>\n",
      "<a href=\"https://marvelcinematicuniverse.fandom.com/wiki/Phil_Coulson\" title=\"Phil Coulson\">Phil Coulson</a>\n",
      "<a href=\"https://marvelcinematicuniverse.fandom.com/wiki/Black_Widow\" title=\"Black Widow\">Black Widow</a>\n",
      "<a href=\"https://marvelcinematicuniverse.fandom.com/wiki/Nick_Fury\" title=\"Nick Fury\">Nick Fury</a>\n",
      "<a href=\"https://marvelcinematicuniverse.fandom.com/wiki/Avengers\" title=\"Avengers\">Avengers</a>\n",
      "<a href=\"https://marvelcinematicuniverse.fandom.com/wiki/Sakaar\" title=\"Sakaar\">Sakaar</a>\n",
      "<a class=\"mw-redirect\" href=\"https://marvelcinematicuniverse.fandom.com/wiki/Bruce_Banner\" title=\"Bruce Banner\">Bruce Banner</a>\n",
      "<a href=\"https://marvelcinematicuniverse.fandom.com/wiki/Valkyrie\" title=\"Valkyrie\">Valkyrie</a>\n",
      "<a href=\"https://marvelcinematicuniverse.fandom.com/wiki/Hela\" title=\"Hela\">Hela</a>\n",
      "<a href=\"https://marvelcinematicuniverse.fandom.com/wiki/Dark_Elves\">Dark Elves</a>\n",
      "<a href=\"https://marvelcinematicuniverse.fandom.com/wiki/Svartalfheim\">Svartalfheim</a>\n",
      "<a href=\"https://marvelcinematicuniverse.fandom.com/wiki/Grandmaster\" title=\"Grandmaster\">Grandmaster</a>\n",
      "<a href=\"https://marvelcinematicuniverse.fandom.com/wiki/Rainbow_Bridge\" title=\"Rainbow Bridge\">Rainbow Bridge</a>\n",
      "<a href=\"https://marvelcinematicuniverse.fandom.com/wiki/Statesman\" title=\"Statesman\">St</a>\n",
      "<a href=\"https://marvelcinematicuniverse.fandom.com/wiki/Statesman\" title=\"Statesman\">atesman</a>\n",
      "<a class=\"article-attribution__name\" data-tracking='{\"category\":\"article\",\"label\":\"author.name\",\"action\":136080,\"post_id\":136080}' href=\"https://www.fandom.com/u/Doctor%20Drea\">Drea Letamendi</a>\n",
      "<a class=\"article-attribution__social-link is-twitter\" data-tracking='{\"category\":\"article\",\"label\":\"author.twitter\",\"action\":136080,\"post_id\":136080}' href=\"https://twitter.com/@ArkhamAsylumDoc\">\n",
      "<svg class=\"wds-icon\">\n",
      "<use xlink:href=\"#wds-icons-twitter\" xmlns:xlink=\"http://www.w3.org/1999/xlink\"></use>\n",
      "</svg>\n",
      "</a>\n"
     ]
    }
   ],
   "source": [
    "for t in article.find_all('a'):\n",
    "    print(t)"
   ]
  },
  {
   "cell_type": "code",
   "execution_count": 29,
   "metadata": {},
   "outputs": [
    {
     "name": "stdout",
     "output_type": "stream",
     "text": [
      "Size 'tag_list': 41\n"
     ]
    },
    {
     "data": {
      "text/plain": [
       "['https://www.fandom.com/u/Doctor%20Drea',\n",
       " 'https://www.fandom.com/topics/tv',\n",
       " 'https://www.fandom.com/topics/movies',\n",
       " 'https://www.fandom.com/topics/tv',\n",
       " 'https://www.fandom.com/topics/movies',\n",
       " 'https://www.fandom.com/topics/comics',\n",
       " 'https://www.fandom.com/topics/streaming',\n",
       " 'https://www.fandom.com/topics/marvel',\n",
       " 'https://www.facebook.com/sharer/sharer.php?u=https%3A%2F%2Fwww.fandom.com%2Farticles%2Floki-psychology-mcu-marvel',\n",
       " 'https://twitter.com/share?url=https%3A%2F%2Fwww.fandom.com%2Farticles%2Floki-psychology-mcu-marvel',\n",
       " 'http://www.reddit.com/submit?url=https%3A%2F%2Fwww.fandom.com%2Farticles%2Floki-psychology-mcu-marvel',\n",
       " 'https://marvelcinematicuniverse.fandom.com/wiki/Loki_(TV_series)',\n",
       " 'https://marvelcinematicuniverse.fandom.com/wiki/Avengers:_Infinity_War',\n",
       " 'https://marvelcinematicuniverse.fandom.com/wiki/Avengers:_Endgame',\n",
       " 'https://marvelcinematicuniverse.fandom.com/wiki/Tesseract',\n",
       " 'https://marvelcinematicuniverse.fandom.com/wiki/Loki',\n",
       " 'https://marvelcinematicuniverse.fandom.com/wiki/Thor',\n",
       " 'https://marvelcinematicuniverse.fandom.com/wiki/Odin',\n",
       " 'https://marvelcinematicuniverse.fandom.com/wiki/Asgard',\n",
       " 'https://marvelcinematicuniverse.fandom.com/wiki/Nine_Realms',\n",
       " 'https://marvelcinematicuniverse.fandom.com/wiki/Frigga',\n",
       " 'https://marvelcinematicuniverse.fandom.com/wiki/Jotunheim',\n",
       " 'https://marvelcinematicuniverse.fandom.com/wiki/Frost_Giants',\n",
       " 'https://marvelcinematicuniverse.fandom.com/wiki/Chitauri',\n",
       " 'https://marvelcinematicuniverse.fandom.com/wiki/Thanos',\n",
       " 'https://marvelcinematicuniverse.fandom.com/wiki/Phil_Coulson',\n",
       " 'https://marvelcinematicuniverse.fandom.com/wiki/Black_Widow',\n",
       " 'https://marvelcinematicuniverse.fandom.com/wiki/Nick_Fury',\n",
       " 'https://marvelcinematicuniverse.fandom.com/wiki/Avengers',\n",
       " 'https://marvelcinematicuniverse.fandom.com/wiki/Sakaar',\n",
       " 'https://marvelcinematicuniverse.fandom.com/wiki/Bruce_Banner',\n",
       " 'https://marvelcinematicuniverse.fandom.com/wiki/Valkyrie',\n",
       " 'https://marvelcinematicuniverse.fandom.com/wiki/Hela',\n",
       " 'https://marvelcinematicuniverse.fandom.com/wiki/Dark_Elves',\n",
       " 'https://marvelcinematicuniverse.fandom.com/wiki/Svartalfheim',\n",
       " 'https://marvelcinematicuniverse.fandom.com/wiki/Grandmaster',\n",
       " 'https://marvelcinematicuniverse.fandom.com/wiki/Rainbow_Bridge',\n",
       " 'https://marvelcinematicuniverse.fandom.com/wiki/Statesman',\n",
       " 'https://marvelcinematicuniverse.fandom.com/wiki/Statesman',\n",
       " 'https://www.fandom.com/u/Doctor%20Drea',\n",
       " 'https://twitter.com/@ArkhamAsylumDoc']"
      ]
     },
     "execution_count": 29,
     "metadata": {},
     "output_type": "execute_result"
    }
   ],
   "source": [
    "tag = 'a'\n",
    "\n",
    "list_tag = []\n",
    "for t in article.find_all(tag):\n",
    "    list_tag.append(t.get('href'))\n",
    "\n",
    "print('Size \\'tag_list\\':', len(list_tag))\n",
    "tag_list"
   ]
  },
  {
   "cell_type": "markdown",
   "metadata": {
    "id": "2RNySAm5Mk42"
   },
   "source": [
    "### Create a filter for unwanted types of articles"
   ]
  },
  {
   "cell_type": "code",
   "execution_count": null,
   "metadata": {},
   "outputs": [],
   "source": []
  },
  {
   "cell_type": "markdown",
   "metadata": {
    "id": "RERADKgNFq9T"
   },
   "source": [
    "\n",
    "\n",
    "---\n",
    "\n",
    "\n",
    "\n",
    "---\n",
    "\n",
    "\n",
    "\n",
    "> > > > > > > > > © 2021 Institute of Data\n",
    "\n",
    "\n",
    "---\n",
    "\n",
    "\n",
    "\n",
    "---\n",
    "\n",
    "\n",
    "\n"
   ]
  }
 ],
 "metadata": {
  "colab": {
   "collapsed_sections": [],
   "name": "IOD_Lab-8_2.ipynb",
   "provenance": []
  },
  "kernelspec": {
   "display_name": "Python 3",
   "language": "python",
   "name": "python3"
  },
  "language_info": {
   "codemirror_mode": {
    "name": "ipython",
    "version": 3
   },
   "file_extension": ".py",
   "mimetype": "text/x-python",
   "name": "python",
   "nbconvert_exporter": "python",
   "pygments_lexer": "ipython3",
   "version": "3.8.5"
  }
 },
 "nbformat": 4,
 "nbformat_minor": 1
}

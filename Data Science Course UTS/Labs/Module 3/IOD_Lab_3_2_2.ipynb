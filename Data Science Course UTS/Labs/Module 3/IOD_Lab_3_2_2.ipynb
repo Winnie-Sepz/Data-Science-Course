{
  "nbformat": 4,
  "nbformat_minor": 0,
  "metadata": {
    "colab": {
      "name": "IOD_Lab 3.2.2.ipynb",
      "provenance": [],
      "collapsed_sections": []
    },
    "kernelspec": {
      "display_name": "Python 3",
      "language": "python",
      "name": "python3"
    },
    "language_info": {
      "codemirror_mode": {
        "name": "ipython",
        "version": 3
      },
      "file_extension": ".py",
      "mimetype": "text/x-python",
      "name": "python",
      "nbconvert_exporter": "python",
      "pygments_lexer": "ipython3",
      "version": "3.8.5"
    }
  },
  "cells": [
    {
      "cell_type": "markdown",
      "metadata": {
        "id": "XfnQYVMtJhQD"
      },
      "source": [
        "<div>\n",
        "<img src=https://www.institutedata.com/wp-content/uploads/2019/10/iod_h_tp_primary_c.svg width=\"300\">\n",
        "</div>\n"
      ]
    },
    {
      "cell_type": "markdown",
      "metadata": {
        "id": "5dCt8XbjJhQG"
      },
      "source": [
        "# Lab 3.2.2 \n",
        "# *Mining Social Media with Twitter*"
      ]
    },
    {
      "cell_type": "markdown",
      "metadata": {
        "id": "b5VfS9hhJhQI"
      },
      "source": [
        "## The Twitter API and Tweepy Package"
      ]
    },
    {
      "cell_type": "markdown",
      "metadata": {
        "id": "lF2z-w5uJhQK"
      },
      "source": [
        "The Twitter API provides access to tweets and comments, and allows an application to post tweets to the user's timeline. \n",
        "\n",
        "Twitter requires developers to create and authenticate an app before they can use the API. As of recent policy changes, however, new developers must be approved before they can create an app. There is no indication of the waiting period for approval."
      ]
    },
    {
      "cell_type": "markdown",
      "metadata": {
        "id": "M0wxJ8HNJhQM"
      },
      "source": [
        "### 1. Apply for Developer Access\n",
        "\n",
        "Go to https://blog.twitter.com/developer/en_us/topics/tools/2018/new-developer-requirements-to-protect-our-platform.html\n",
        "and read the advice.\n"
      ]
    },
    {
      "cell_type": "markdown",
      "metadata": {
        "id": "tICSKwL1JhQN"
      },
      "source": [
        "Apply at https://developer.twitter.com/en/apply-for-access.html. Where asked state that you will use the app as a student to explore the tweepy Python library and use it to fetch recent tweets and to create/delete a tweet."
      ]
    },
    {
      "cell_type": "markdown",
      "metadata": {
        "id": "NMeZ70IZJhQR"
      },
      "source": [
        "### 2. Create Your Twitter App\n",
        "Go to https://developer.twitter.com/en/portal/projects-and-apps and click on the \"+ Create App\" button. Give your app a name and then you will be able to generate Consumer Keys (API key & secret) and Authentication Tokens (Access token & secret). Copy-paste these authentication details for use in this lab."
      ]
    },
    {
      "cell_type": "markdown",
      "metadata": {
        "id": "HpWMHz9NJhQS"
      },
      "source": [
        "### 3. Load Python Libraries"
      ]
    },
    {
      "cell_type": "code",
      "metadata": {
        "id": "16hb8EpNJhQU"
      },
      "source": [
        "import tweepy\n",
        "import json\n",
        "import pprint"
      ],
      "execution_count": null,
      "outputs": []
    },
    {
      "cell_type": "markdown",
      "metadata": {
        "id": "p7W0se6_JhQX"
      },
      "source": [
        "### 4. Authenticate from your Python script"
      ]
    },
    {
      "cell_type": "markdown",
      "metadata": {
        "id": "mJfe55dVJhQY"
      },
      "source": [
        "You could assign your authentication details explicitly, as follows:"
      ]
    },
    {
      "cell_type": "code",
      "metadata": {
        "id": "aygW7a3eJhQZ"
      },
      "source": [
        "consumer_key = ''      # your consumer key (string) goes in here\n",
        "consumer_secret = ''   # your consumer secret key (string) goes in here\n",
        "access_token = ''      # your access token (string) goes in here\n",
        "access_token_secret = ''  # your access token secret (string) goes in here"
      ],
      "execution_count": null,
      "outputs": []
    },
    {
      "cell_type": "markdown",
      "metadata": {
        "id": "7LXwmSzOJhQe"
      },
      "source": [
        "A better way would be to store these details externally, so they are not displayed in the notebook:\n",
        "\n",
        "- create a file called \"auth_twitter.json\" in your \"notebooks\" directory, and save your credentials there in JSON format:\n",
        "\n",
        "`{`<br>\n",
        "&nbsp;&nbsp;&nbsp;&nbsp;&nbsp;&nbsp;&nbsp;&nbsp;`   \"consumer_key\": \"your consumer key (string) goes in here\",` <br>\n",
        "&nbsp;&nbsp;&nbsp;&nbsp;&nbsp;&nbsp;&nbsp;&nbsp;` \"consumer_secret\": \"your consumer secret key (string) goes in here\",` <br>\n",
        "&nbsp;&nbsp;&nbsp;&nbsp;&nbsp;&nbsp;&nbsp;&nbsp;`\"access_token\": \"your access token (string) goes in here\",` <br>\n",
        "&nbsp;&nbsp;&nbsp;&nbsp;&nbsp;&nbsp;&nbsp;&nbsp;`\"access_token_secret\": \"your access token secret (string) goes in here\"` <br>\n",
        "`}`\n",
        "\n",
        "(Nb. Parsers are very fussy. Make sure each key:value pair has a comma after it except the last one!)  \n",
        "\n",
        "Use the following code to load the credentials:  "
      ]
    },
    {
      "cell_type": "code",
      "metadata": {
        "id": "kh2srKpzJhQh"
      },
      "source": [
        "pwd()  # make sure your working directory is where the file is"
      ],
      "execution_count": null,
      "outputs": []
    },
    {
      "cell_type": "code",
      "metadata": {
        "id": "uR8Vchz7JhQm"
      },
      "source": [
        "path_auth = 'auth_twitter.json'\n",
        "auth = json.loads(open(path_auth).read())\n",
        "pp = pprint.PrettyPrinter(indent=4)\n",
        "# For debugging only:\n",
        "#pp.pprint(auth)\n",
        "\n",
        "consumer_key = auth['consumer_key']\n",
        "consumer_secret = auth['consumer_secret']\n",
        "access_token = auth['access_token']\n",
        "access_token_secret = auth['access_token_secret']"
      ],
      "execution_count": null,
      "outputs": []
    },
    {
      "cell_type": "markdown",
      "metadata": {
        "id": "GPRmYZigJhQp"
      },
      "source": [
        "Security considerations: \n",
        "- this method only keeps your credentials invisible as long as nobody accesses this notebook while it's running on your computer \n",
        "- if you wanted another user to have access to the executable notebook without divulging your credentials you should set up an OAuth 2.0 workflow to let them obtain and apply their own API tokens when using your app\n",
        "- if you just want to share your analyses, you could use a separate script (which you don't share) to fetch the data and save it locally, then use a second notebook (with no API access) to load and analyse the locally stored data"
      ]
    },
    {
      "cell_type": "markdown",
      "metadata": {
        "id": "Ln30k0pZJhQp"
      },
      "source": [
        "### 5. Exploring the API"
      ]
    },
    {
      "cell_type": "markdown",
      "metadata": {
        "id": "6fsc0U1nJhQq"
      },
      "source": [
        "Here is how to connect to Twitter using the Tweepy library:"
      ]
    },
    {
      "cell_type": "code",
      "metadata": {
        "id": "-y_4GBx1JhQr"
      },
      "source": [
        "auth = tweepy.OAuthHandler(my_consumer_key, my_consumer_secret)\n",
        "auth.set_access_token(my_access_token, my_access_token_secret)\n",
        "api = tweepy.API(auth)"
      ],
      "execution_count": null,
      "outputs": []
    },
    {
      "cell_type": "markdown",
      "metadata": {
        "id": "wSKzR9LdJhQu"
      },
      "source": [
        "In the next cell, put the cursor after the '.' and hit the [tab] key to see the available members and methods in the response object:"
      ]
    },
    {
      "cell_type": "code",
      "metadata": {
        "id": "BfnAOR2bJhQv"
      },
      "source": [
        "api."
      ],
      "execution_count": null,
      "outputs": []
    },
    {
      "cell_type": "markdown",
      "metadata": {
        "id": "DcJ-cc6zJhQz"
      },
      "source": [
        "Consult the Tweept and Twitter API documentation. Print a few of the response members below:"
      ]
    },
    {
      "cell_type": "code",
      "metadata": {
        "id": "W_IKqMAQJhQ1"
      },
      "source": [
        ""
      ],
      "execution_count": null,
      "outputs": []
    },
    {
      "cell_type": "markdown",
      "metadata": {
        "id": "dLkdLKjLJhQ3"
      },
      "source": [
        "This will fetch recent tweets from accounts you follow:"
      ]
    },
    {
      "cell_type": "code",
      "metadata": {
        "id": "l9y8t3X7JhQ4"
      },
      "source": [
        "# Recent tweets from accounts you follow:\n",
        "tweets = api.home_timeline()\n",
        "for tweet in tweets:\n",
        "    print(tweet.text)"
      ],
      "execution_count": null,
      "outputs": []
    },
    {
      "cell_type": "markdown",
      "metadata": {
        "id": "k2NpPlOIJhQ6"
      },
      "source": [
        "The request to see your own recent tweets is similar, but uses the `user_timeline` endpoint. Try this below:"
      ]
    },
    {
      "cell_type": "code",
      "metadata": {
        "id": "QMlhdx5NJhQ6"
      },
      "source": [
        ""
      ],
      "execution_count": null,
      "outputs": []
    },
    {
      "cell_type": "markdown",
      "metadata": {
        "id": "qY7oM-lJJhQ8"
      },
      "source": [
        "Now, instead of printing the text of each tweet, print the `created_at` and `id_str` methods:"
      ]
    },
    {
      "cell_type": "code",
      "metadata": {
        "id": "aUOlNdG8JhQ9"
      },
      "source": [
        ""
      ],
      "execution_count": null,
      "outputs": []
    },
    {
      "cell_type": "markdown",
      "metadata": {
        "id": "3PibchrmJhQ-"
      },
      "source": [
        "You can create a tweet as follows:"
      ]
    },
    {
      "cell_type": "code",
      "metadata": {
        "id": "IwzTjf1gJhQ_"
      },
      "source": [
        "# create a tweet:\n",
        "tweet = api.update_status('Test: Made with Tweepy')"
      ],
      "execution_count": null,
      "outputs": []
    },
    {
      "cell_type": "markdown",
      "metadata": {
        "id": "TtlXvbjoJhRB"
      },
      "source": [
        "(Nb. Don't abuse this feature! If you try to generate a zillion tweets in a loop, Twitter will ban youur account.)"
      ]
    },
    {
      "cell_type": "markdown",
      "metadata": {
        "id": "awUIiruTJhRB"
      },
      "source": [
        "Tweets can be deleted by reference to their `id_str` attribute:"
      ]
    },
    {
      "cell_type": "code",
      "metadata": {
        "id": "tKPSCOEBJhRC"
      },
      "source": [
        "# delete a tweet:\n",
        "status = api.destroy_status(tweet.id_str)"
      ],
      "execution_count": null,
      "outputs": []
    },
    {
      "cell_type": "markdown",
      "metadata": {
        "id": "hEt9NWJBJhRE"
      },
      "source": [
        "You can follow a Tweeter:"
      ]
    },
    {
      "cell_type": "code",
      "metadata": {
        "id": "CDWxR8wOJhRF"
      },
      "source": [
        "# follow:\n",
        "api.create_friendship('@YouTube')"
      ],
      "execution_count": null,
      "outputs": []
    },
    {
      "cell_type": "markdown",
      "metadata": {
        "id": "Nbp2vRONJhRH"
      },
      "source": [
        "or unfollow:"
      ]
    },
    {
      "cell_type": "code",
      "metadata": {
        "id": "wCsNNVT9JhRH"
      },
      "source": [
        "# unfollow:\n",
        "api.destroy_friendship('@YouTube')"
      ],
      "execution_count": null,
      "outputs": []
    },
    {
      "cell_type": "code",
      "metadata": {
        "id": "ND4BmdkvJhRJ"
      },
      "source": [
        ""
      ],
      "execution_count": null,
      "outputs": []
    },
    {
      "cell_type": "markdown",
      "metadata": {
        "id": "59l7EOATJrJO"
      },
      "source": [
        "\n",
        "\n",
        "---\n",
        "\n",
        "\n",
        "\n",
        "---\n",
        "\n",
        "\n",
        "\n",
        "> > > > > > > > > © 2021 Institute of Data\n",
        "\n",
        "\n",
        "---\n",
        "\n",
        "\n",
        "\n",
        "---\n",
        "\n",
        "\n",
        "\n"
      ]
    }
  ]
}
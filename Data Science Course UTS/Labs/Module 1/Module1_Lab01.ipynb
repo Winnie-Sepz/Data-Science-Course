{
 "cells": [
  {
   "cell_type": "markdown",
   "metadata": {
    "colab_type": "text",
    "id": "7KeNKtNL2Ix-"
   },
   "source": [
    "<div>\n",
    "<img src=https://www.institutedata.com/wp-content/uploads/2019/10/iod_h_tp_primary_c.svg width=\"300\">\n",
    "</div>\n",
    "\n",
    "# Python - Lab 1 \n",
    "\n",
    "## Learning objectives\n",
    "\n",
    "This lab demonstrates examples of: \n",
    "\n",
    "1. Creating and manipulating lists\n",
    "2. For loops\n",
    "3. Importing modules and functions\n",
    "4. Creating dictonaries\n",
    "\n",
    "## Instructions:\n",
    "\n",
    "1. Replace ??? with the appropriate code\n",
    "2. Press Shift + Enter to execute cell\n",
    "\n"
   ]
  },
  {
   "cell_type": "code",
   "execution_count": 0,
   "metadata": {
    "colab": {},
    "colab_type": "code",
    "id": "NaRcNY1l2LbD"
   },
   "outputs": [],
   "source": [
    "# create a list of 10 student (use just first name)\n",
    "students = [\"Anne\", \"Bianca\", \"Cassie\", \"Debbie\", \"Erica\", \"Fiona\", \"Georgia\", \"Helen\", \"Isabelle\", \"Jenny\"]"
   ]
  },
  {
   "cell_type": "code",
   "execution_count": 5,
   "metadata": {
    "colab": {},
    "colab_type": "code",
    "id": "lyMlOgoUZ2R4"
   },
   "outputs": [
    {
     "name": "stdout",
     "output_type": "stream",
     "text": [
      "['Anne', 'Bianca', 'Cassie', 'Debbie', 'Erica', 'Fiona', 'Georgia', 'Helen', 'Isabelle', 'Jenny']\n"
     ]
    }
   ],
   "source": [
    "# Print the list\n",
    "print(students)"
   ]
  },
  {
   "cell_type": "code",
   "execution_count": 28,
   "metadata": {
    "colab": {},
    "colab_type": "code",
    "id": "LtbLA_T811kr"
   },
   "outputs": [
    {
     "name": "stdout",
     "output_type": "stream",
     "text": [
      "index 01\t Anne\n",
      "index 02\t Bianca\n",
      "index 03\t Cassie\n",
      "index 04\t Debbie\n",
      "index 05\t Erica\n",
      "index 06\t Fiona\n",
      "index 07\t Georgia\n",
      "index 08\t Helen\n",
      "index 09\t Isabelle\n",
      "index 10\t Jenny\n"
     ]
    }
   ],
   "source": [
    "# print the list of students\n",
    "# in the following format\n",
    "# Index 01 \t Alice\n",
    "# Index 02 \t Bob\n",
    "# Index 03 \t Pradeep\n",
    "for index, a in enumerate(students):\n",
    "       print(f'index {index +1 :02d}\\t {a}')"
   ]
  },
  {
   "cell_type": "code",
   "execution_count": 0,
   "metadata": {
    "colab": {},
    "colab_type": "code",
    "id": "OF5sj3CX1lHl"
   },
   "outputs": [],
   "source": [
    "# print the list of students in reverse order one student in a line with its index\n",
    "reversed_list = students.copy()\n",
    "for index, a in reversed(list(enumerate(reversed_list))):\n",
    "       print(f'index {index +1 :02d}\\t {a}')"
   ]
  },
  {
   "cell_type": "code",
   "execution_count": 34,
   "metadata": {
    "colab": {},
    "colab_type": "code",
    "id": "eAdtim4G1pyV"
   },
   "outputs": [
    {
     "name": "stdout",
     "output_type": "stream",
     "text": [
      "['Jenny', 'Bianca', 'Erica', 'Debbie', 'Fiona', 'Cassie', 'Isabelle', 'Anne', 'Georgia', 'Helen']\n"
     ]
    }
   ],
   "source": [
    "# print the student list in random order\n",
    "# hint look up the function random.sample\n",
    "import random\n",
    "random_list= random.sample(students,10)\n",
    "print(random_list)"
   ]
  },
  {
   "cell_type": "code",
   "execution_count": 50,
   "metadata": {
    "colab": {},
    "colab_type": "code",
    "id": "sfKkL5dt1tqG"
   },
   "outputs": [
    {
     "name": "stdout",
     "output_type": "stream",
     "text": [
      "Students and their marks:\n",
      "Fiona 90\n",
      "Anne 87\n",
      "Cassie 76\n",
      "Jenny 75\n",
      "Helen 73\n",
      "Isabelle 69\n",
      "Erica 66\n",
      "Debbie 64\n",
      "Georgia 55\n",
      "Bianca 45\n"
     ]
    }
   ],
   "source": [
    "# list students in order of their exam marks in the following list\n",
    "marks = [87,45,76,64,66,90,55,73,69,75]\n",
    "sorted_values = sorted(studentsAndMarks, key=studentsAndMarks.get, reverse=True)\n",
    "studentsAndMarks = dict(zip(students,marks))\n",
    "print(\"Students and their marks:\")\n",
    "for r in sorted_values :\n",
    "    print(r, studentsAndMarks[r])"
   ]
  }
 ],
 "metadata": {
  "colab": {
   "collapsed_sections": [],
   "name": "Lab01.ipynb",
   "provenance": []
  },
  "kernelspec": {
   "display_name": "Python 3",
   "language": "python",
   "name": "python3"
  },
  "language_info": {
   "codemirror_mode": {
    "name": "ipython",
    "version": 3
   },
   "file_extension": ".py",
   "mimetype": "text/x-python",
   "name": "python",
   "nbconvert_exporter": "python",
   "pygments_lexer": "ipython3",
   "version": "3.8.5"
  }
 },
 "nbformat": 4,
 "nbformat_minor": 1
}

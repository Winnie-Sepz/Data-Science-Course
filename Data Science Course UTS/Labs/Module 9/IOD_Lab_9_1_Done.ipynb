{
 "cells": [
  {
   "cell_type": "markdown",
   "metadata": {
    "id": "gn3SG1yo1KdV"
   },
   "source": [
    "<div>\n",
    "<img src=https://www.institutedata.com/wp-content/uploads/2019/10/iod_h_tp_primary_c.svg width=\"300\">\n",
    "</div>"
   ]
  },
  {
   "cell_type": "markdown",
   "metadata": {
    "id": "g-SD7a9X1KdY"
   },
   "source": [
    "# Lab 9.1: NN with Keras\n",
    "INSTRUCTIONS:\n",
    "- Read the guides and hints, then create the necessary analysis and code to find an answer and conclusion for the task below.\n",
    "- **NOTE**: This is a Regression problem. Consider the appropriate:\n",
    "    - Activation function\n",
    "    - Loss/Cost Function\n",
    "    - Metrics"
   ]
  },
  {
   "cell_type": "markdown",
   "metadata": {
    "id": "ENgfRnvL1Kdc"
   },
   "source": [
    "### Import libraries"
   ]
  },
  {
   "cell_type": "code",
   "execution_count": 15,
   "metadata": {
    "id": "Z9H465X-1Kde"
   },
   "outputs": [],
   "source": [
    "# insert code here\n",
    "import numpy as np\n",
    "import pandas as pd\n",
    "\n",
    "# Load the diabetes dataset from sklearn\n",
    "from sklearn import datasets\n",
    "\n",
    "%matplotlib inline\n",
    "import matplotlib.pyplot as plt\n",
    "\n",
    "import tensorflow"
   ]
  },
  {
   "cell_type": "code",
   "execution_count": 16,
   "metadata": {},
   "outputs": [],
   "source": [
    "from tensorflow import keras"
   ]
  },
  {
   "cell_type": "markdown",
   "metadata": {
    "id": "5FHh910J1Kdm"
   },
   "source": [
    "### Load data\n",
    "Load the Diabetes dataset from **SciKit-Learn**."
   ]
  },
  {
   "cell_type": "code",
   "execution_count": 17,
   "metadata": {
    "id": "MWu8SlQF1Kdo"
   },
   "outputs": [
    {
     "data": {
      "text/plain": [
       "{'data': array([[ 0.03807591,  0.05068012,  0.06169621, ..., -0.00259226,\n",
       "          0.01990842, -0.01764613],\n",
       "        [-0.00188202, -0.04464164, -0.05147406, ..., -0.03949338,\n",
       "         -0.06832974, -0.09220405],\n",
       "        [ 0.08529891,  0.05068012,  0.04445121, ..., -0.00259226,\n",
       "          0.00286377, -0.02593034],\n",
       "        ...,\n",
       "        [ 0.04170844,  0.05068012, -0.01590626, ..., -0.01107952,\n",
       "         -0.04687948,  0.01549073],\n",
       "        [-0.04547248, -0.04464164,  0.03906215, ...,  0.02655962,\n",
       "          0.04452837, -0.02593034],\n",
       "        [-0.04547248, -0.04464164, -0.0730303 , ..., -0.03949338,\n",
       "         -0.00421986,  0.00306441]]),\n",
       " 'target': array([151.,  75., 141., 206., 135.,  97., 138.,  63., 110., 310., 101.,\n",
       "         69., 179., 185., 118., 171., 166., 144.,  97., 168.,  68.,  49.,\n",
       "         68., 245., 184., 202., 137.,  85., 131., 283., 129.,  59., 341.,\n",
       "         87.,  65., 102., 265., 276., 252.,  90., 100.,  55.,  61.,  92.,\n",
       "        259.,  53., 190., 142.,  75., 142., 155., 225.,  59., 104., 182.,\n",
       "        128.,  52.,  37., 170., 170.,  61., 144.,  52., 128.,  71., 163.,\n",
       "        150.,  97., 160., 178.,  48., 270., 202., 111.,  85.,  42., 170.,\n",
       "        200., 252., 113., 143.,  51.,  52., 210.,  65., 141.,  55., 134.,\n",
       "         42., 111.,  98., 164.,  48.,  96.,  90., 162., 150., 279.,  92.,\n",
       "         83., 128., 102., 302., 198.,  95.,  53., 134., 144., 232.,  81.,\n",
       "        104.,  59., 246., 297., 258., 229., 275., 281., 179., 200., 200.,\n",
       "        173., 180.,  84., 121., 161.,  99., 109., 115., 268., 274., 158.,\n",
       "        107.,  83., 103., 272.,  85., 280., 336., 281., 118., 317., 235.,\n",
       "         60., 174., 259., 178., 128.,  96., 126., 288.,  88., 292.,  71.,\n",
       "        197., 186.,  25.,  84.,  96., 195.,  53., 217., 172., 131., 214.,\n",
       "         59.,  70., 220., 268., 152.,  47.,  74., 295., 101., 151., 127.,\n",
       "        237., 225.,  81., 151., 107.,  64., 138., 185., 265., 101., 137.,\n",
       "        143., 141.,  79., 292., 178.,  91., 116.,  86., 122.,  72., 129.,\n",
       "        142.,  90., 158.,  39., 196., 222., 277.,  99., 196., 202., 155.,\n",
       "         77., 191.,  70.,  73.,  49.,  65., 263., 248., 296., 214., 185.,\n",
       "         78.,  93., 252., 150.,  77., 208.,  77., 108., 160.,  53., 220.,\n",
       "        154., 259.,  90., 246., 124.,  67.,  72., 257., 262., 275., 177.,\n",
       "         71.,  47., 187., 125.,  78.,  51., 258., 215., 303., 243.,  91.,\n",
       "        150., 310., 153., 346.,  63.,  89.,  50.,  39., 103., 308., 116.,\n",
       "        145.,  74.,  45., 115., 264.,  87., 202., 127., 182., 241.,  66.,\n",
       "         94., 283.,  64., 102., 200., 265.,  94., 230., 181., 156., 233.,\n",
       "         60., 219.,  80.,  68., 332., 248.,  84., 200.,  55.,  85.,  89.,\n",
       "         31., 129.,  83., 275.,  65., 198., 236., 253., 124.,  44., 172.,\n",
       "        114., 142., 109., 180., 144., 163., 147.,  97., 220., 190., 109.,\n",
       "        191., 122., 230., 242., 248., 249., 192., 131., 237.,  78., 135.,\n",
       "        244., 199., 270., 164.,  72.,  96., 306.,  91., 214.,  95., 216.,\n",
       "        263., 178., 113., 200., 139., 139.,  88., 148.,  88., 243.,  71.,\n",
       "         77., 109., 272.,  60.,  54., 221.,  90., 311., 281., 182., 321.,\n",
       "         58., 262., 206., 233., 242., 123., 167.,  63., 197.,  71., 168.,\n",
       "        140., 217., 121., 235., 245.,  40.,  52., 104., 132.,  88.,  69.,\n",
       "        219.,  72., 201., 110.,  51., 277.,  63., 118.,  69., 273., 258.,\n",
       "         43., 198., 242., 232., 175.,  93., 168., 275., 293., 281.,  72.,\n",
       "        140., 189., 181., 209., 136., 261., 113., 131., 174., 257.,  55.,\n",
       "         84.,  42., 146., 212., 233.,  91., 111., 152., 120.,  67., 310.,\n",
       "         94., 183.,  66., 173.,  72.,  49.,  64.,  48., 178., 104., 132.,\n",
       "        220.,  57.]),\n",
       " 'frame': None,\n",
       " 'DESCR': '.. _diabetes_dataset:\\n\\nDiabetes dataset\\n----------------\\n\\nTen baseline variables, age, sex, body mass index, average blood\\npressure, and six blood serum measurements were obtained for each of n =\\n442 diabetes patients, as well as the response of interest, a\\nquantitative measure of disease progression one year after baseline.\\n\\n**Data Set Characteristics:**\\n\\n  :Number of Instances: 442\\n\\n  :Number of Attributes: First 10 columns are numeric predictive values\\n\\n  :Target: Column 11 is a quantitative measure of disease progression one year after baseline\\n\\n  :Attribute Information:\\n      - age     age in years\\n      - sex\\n      - bmi     body mass index\\n      - bp      average blood pressure\\n      - s1      tc, T-Cells (a type of white blood cells)\\n      - s2      ldl, low-density lipoproteins\\n      - s3      hdl, high-density lipoproteins\\n      - s4      tch, thyroid stimulating hormone\\n      - s5      ltg, lamotrigine\\n      - s6      glu, blood sugar level\\n\\nNote: Each of these 10 feature variables have been mean centered and scaled by the standard deviation times `n_samples` (i.e. the sum of squares of each column totals 1).\\n\\nSource URL:\\nhttps://www4.stat.ncsu.edu/~boos/var.select/diabetes.html\\n\\nFor more information see:\\nBradley Efron, Trevor Hastie, Iain Johnstone and Robert Tibshirani (2004) \"Least Angle Regression,\" Annals of Statistics (with discussion), 407-499.\\n(https://web.stanford.edu/~hastie/Papers/LARS/LeastAngle_2002.pdf)',\n",
       " 'feature_names': ['age',\n",
       "  'sex',\n",
       "  'bmi',\n",
       "  'bp',\n",
       "  's1',\n",
       "  's2',\n",
       "  's3',\n",
       "  's4',\n",
       "  's5',\n",
       "  's6'],\n",
       " 'data_filename': '/opt/anaconda3/lib/python3.8/site-packages/sklearn/datasets/data/diabetes_data.csv.gz',\n",
       " 'target_filename': '/opt/anaconda3/lib/python3.8/site-packages/sklearn/datasets/data/diabetes_target.csv.gz'}"
      ]
     },
     "execution_count": 17,
     "metadata": {},
     "output_type": "execute_result"
    }
   ],
   "source": [
    "## Load the Diabetes dataset\n",
    "diabetes = datasets.load_diabetes()\n",
    "datasets.load_diabetes()"
   ]
  },
  {
   "cell_type": "code",
   "execution_count": 18,
   "metadata": {},
   "outputs": [
    {
     "name": "stdout",
     "output_type": "stream",
     "text": [
      ".. _diabetes_dataset:\n",
      "\n",
      "Diabetes dataset\n",
      "----------------\n",
      "\n",
      "Ten baseline variables, age, sex, body mass index, average blood\n",
      "pressure, and six blood serum measurements were obtained for each of n =\n",
      "442 diabetes patients, as well as the response of interest, a\n",
      "quantitative measure of disease progression one year after baseline.\n",
      "\n",
      "**Data Set Characteristics:**\n",
      "\n",
      "  :Number of Instances: 442\n",
      "\n",
      "  :Number of Attributes: First 10 columns are numeric predictive values\n",
      "\n",
      "  :Target: Column 11 is a quantitative measure of disease progression one year after baseline\n",
      "\n",
      "  :Attribute Information:\n",
      "      - age     age in years\n",
      "      - sex\n",
      "      - bmi     body mass index\n",
      "      - bp      average blood pressure\n",
      "      - s1      tc, T-Cells (a type of white blood cells)\n",
      "      - s2      ldl, low-density lipoproteins\n",
      "      - s3      hdl, high-density lipoproteins\n",
      "      - s4      tch, thyroid stimulating hormone\n",
      "      - s5      ltg, lamotrigine\n",
      "      - s6      glu, blood sugar level\n",
      "\n",
      "Note: Each of these 10 feature variables have been mean centered and scaled by the standard deviation times `n_samples` (i.e. the sum of squares of each column totals 1).\n",
      "\n",
      "Source URL:\n",
      "https://www4.stat.ncsu.edu/~boos/var.select/diabetes.html\n",
      "\n",
      "For more information see:\n",
      "Bradley Efron, Trevor Hastie, Iain Johnstone and Robert Tibshirani (2004) \"Least Angle Regression,\" Annals of Statistics (with discussion), 407-499.\n",
      "(https://web.stanford.edu/~hastie/Papers/LARS/LeastAngle_2002.pdf)\n"
     ]
    }
   ],
   "source": [
    "print(diabetes.DESCR)"
   ]
  },
  {
   "cell_type": "markdown",
   "metadata": {},
   "source": [
    "# Prepare input data"
   ]
  },
  {
   "cell_type": "code",
   "execution_count": 19,
   "metadata": {},
   "outputs": [
    {
     "data": {
      "text/plain": [
       "array([[ 0.03807591,  0.05068012,  0.06169621, ..., -0.00259226,\n",
       "         0.01990842, -0.01764613],\n",
       "       [-0.00188202, -0.04464164, -0.05147406, ..., -0.03949338,\n",
       "        -0.06832974, -0.09220405],\n",
       "       [ 0.08529891,  0.05068012,  0.04445121, ..., -0.00259226,\n",
       "         0.00286377, -0.02593034],\n",
       "       ...,\n",
       "       [ 0.04170844,  0.05068012, -0.01590626, ..., -0.01107952,\n",
       "        -0.04687948,  0.01549073],\n",
       "       [-0.04547248, -0.04464164,  0.03906215, ...,  0.02655962,\n",
       "         0.04452837, -0.02593034],\n",
       "       [-0.04547248, -0.04464164, -0.0730303 , ..., -0.03949338,\n",
       "        -0.00421986,  0.00306441]])"
      ]
     },
     "execution_count": 19,
     "metadata": {},
     "output_type": "execute_result"
    }
   ],
   "source": [
    "diabetes.data #It's a dictionary"
   ]
  },
  {
   "cell_type": "code",
   "execution_count": 20,
   "metadata": {},
   "outputs": [],
   "source": [
    "column_names= diabetes.feature_names"
   ]
  },
  {
   "cell_type": "code",
   "execution_count": 21,
   "metadata": {},
   "outputs": [],
   "source": [
    "X=pd.DataFrame(data=diabetes.data, columns=column_names)"
   ]
  },
  {
   "cell_type": "code",
   "execution_count": 22,
   "metadata": {},
   "outputs": [
    {
     "data": {
      "text/html": [
       "<div>\n",
       "<style scoped>\n",
       "    .dataframe tbody tr th:only-of-type {\n",
       "        vertical-align: middle;\n",
       "    }\n",
       "\n",
       "    .dataframe tbody tr th {\n",
       "        vertical-align: top;\n",
       "    }\n",
       "\n",
       "    .dataframe thead th {\n",
       "        text-align: right;\n",
       "    }\n",
       "</style>\n",
       "<table border=\"1\" class=\"dataframe\">\n",
       "  <thead>\n",
       "    <tr style=\"text-align: right;\">\n",
       "      <th></th>\n",
       "      <th>age</th>\n",
       "      <th>sex</th>\n",
       "      <th>bmi</th>\n",
       "      <th>bp</th>\n",
       "      <th>s1</th>\n",
       "      <th>s2</th>\n",
       "      <th>s3</th>\n",
       "      <th>s4</th>\n",
       "      <th>s5</th>\n",
       "      <th>s6</th>\n",
       "    </tr>\n",
       "  </thead>\n",
       "  <tbody>\n",
       "    <tr>\n",
       "      <th>0</th>\n",
       "      <td>0.038076</td>\n",
       "      <td>0.050680</td>\n",
       "      <td>0.061696</td>\n",
       "      <td>0.021872</td>\n",
       "      <td>-0.044223</td>\n",
       "      <td>-0.034821</td>\n",
       "      <td>-0.043401</td>\n",
       "      <td>-0.002592</td>\n",
       "      <td>0.019908</td>\n",
       "      <td>-0.017646</td>\n",
       "    </tr>\n",
       "    <tr>\n",
       "      <th>1</th>\n",
       "      <td>-0.001882</td>\n",
       "      <td>-0.044642</td>\n",
       "      <td>-0.051474</td>\n",
       "      <td>-0.026328</td>\n",
       "      <td>-0.008449</td>\n",
       "      <td>-0.019163</td>\n",
       "      <td>0.074412</td>\n",
       "      <td>-0.039493</td>\n",
       "      <td>-0.068330</td>\n",
       "      <td>-0.092204</td>\n",
       "    </tr>\n",
       "    <tr>\n",
       "      <th>2</th>\n",
       "      <td>0.085299</td>\n",
       "      <td>0.050680</td>\n",
       "      <td>0.044451</td>\n",
       "      <td>-0.005671</td>\n",
       "      <td>-0.045599</td>\n",
       "      <td>-0.034194</td>\n",
       "      <td>-0.032356</td>\n",
       "      <td>-0.002592</td>\n",
       "      <td>0.002864</td>\n",
       "      <td>-0.025930</td>\n",
       "    </tr>\n",
       "    <tr>\n",
       "      <th>3</th>\n",
       "      <td>-0.089063</td>\n",
       "      <td>-0.044642</td>\n",
       "      <td>-0.011595</td>\n",
       "      <td>-0.036656</td>\n",
       "      <td>0.012191</td>\n",
       "      <td>0.024991</td>\n",
       "      <td>-0.036038</td>\n",
       "      <td>0.034309</td>\n",
       "      <td>0.022692</td>\n",
       "      <td>-0.009362</td>\n",
       "    </tr>\n",
       "    <tr>\n",
       "      <th>4</th>\n",
       "      <td>0.005383</td>\n",
       "      <td>-0.044642</td>\n",
       "      <td>-0.036385</td>\n",
       "      <td>0.021872</td>\n",
       "      <td>0.003935</td>\n",
       "      <td>0.015596</td>\n",
       "      <td>0.008142</td>\n",
       "      <td>-0.002592</td>\n",
       "      <td>-0.031991</td>\n",
       "      <td>-0.046641</td>\n",
       "    </tr>\n",
       "    <tr>\n",
       "      <th>...</th>\n",
       "      <td>...</td>\n",
       "      <td>...</td>\n",
       "      <td>...</td>\n",
       "      <td>...</td>\n",
       "      <td>...</td>\n",
       "      <td>...</td>\n",
       "      <td>...</td>\n",
       "      <td>...</td>\n",
       "      <td>...</td>\n",
       "      <td>...</td>\n",
       "    </tr>\n",
       "    <tr>\n",
       "      <th>437</th>\n",
       "      <td>0.041708</td>\n",
       "      <td>0.050680</td>\n",
       "      <td>0.019662</td>\n",
       "      <td>0.059744</td>\n",
       "      <td>-0.005697</td>\n",
       "      <td>-0.002566</td>\n",
       "      <td>-0.028674</td>\n",
       "      <td>-0.002592</td>\n",
       "      <td>0.031193</td>\n",
       "      <td>0.007207</td>\n",
       "    </tr>\n",
       "    <tr>\n",
       "      <th>438</th>\n",
       "      <td>-0.005515</td>\n",
       "      <td>0.050680</td>\n",
       "      <td>-0.015906</td>\n",
       "      <td>-0.067642</td>\n",
       "      <td>0.049341</td>\n",
       "      <td>0.079165</td>\n",
       "      <td>-0.028674</td>\n",
       "      <td>0.034309</td>\n",
       "      <td>-0.018118</td>\n",
       "      <td>0.044485</td>\n",
       "    </tr>\n",
       "    <tr>\n",
       "      <th>439</th>\n",
       "      <td>0.041708</td>\n",
       "      <td>0.050680</td>\n",
       "      <td>-0.015906</td>\n",
       "      <td>0.017282</td>\n",
       "      <td>-0.037344</td>\n",
       "      <td>-0.013840</td>\n",
       "      <td>-0.024993</td>\n",
       "      <td>-0.011080</td>\n",
       "      <td>-0.046879</td>\n",
       "      <td>0.015491</td>\n",
       "    </tr>\n",
       "    <tr>\n",
       "      <th>440</th>\n",
       "      <td>-0.045472</td>\n",
       "      <td>-0.044642</td>\n",
       "      <td>0.039062</td>\n",
       "      <td>0.001215</td>\n",
       "      <td>0.016318</td>\n",
       "      <td>0.015283</td>\n",
       "      <td>-0.028674</td>\n",
       "      <td>0.026560</td>\n",
       "      <td>0.044528</td>\n",
       "      <td>-0.025930</td>\n",
       "    </tr>\n",
       "    <tr>\n",
       "      <th>441</th>\n",
       "      <td>-0.045472</td>\n",
       "      <td>-0.044642</td>\n",
       "      <td>-0.073030</td>\n",
       "      <td>-0.081414</td>\n",
       "      <td>0.083740</td>\n",
       "      <td>0.027809</td>\n",
       "      <td>0.173816</td>\n",
       "      <td>-0.039493</td>\n",
       "      <td>-0.004220</td>\n",
       "      <td>0.003064</td>\n",
       "    </tr>\n",
       "  </tbody>\n",
       "</table>\n",
       "<p>442 rows × 10 columns</p>\n",
       "</div>"
      ],
      "text/plain": [
       "          age       sex       bmi        bp        s1        s2        s3  \\\n",
       "0    0.038076  0.050680  0.061696  0.021872 -0.044223 -0.034821 -0.043401   \n",
       "1   -0.001882 -0.044642 -0.051474 -0.026328 -0.008449 -0.019163  0.074412   \n",
       "2    0.085299  0.050680  0.044451 -0.005671 -0.045599 -0.034194 -0.032356   \n",
       "3   -0.089063 -0.044642 -0.011595 -0.036656  0.012191  0.024991 -0.036038   \n",
       "4    0.005383 -0.044642 -0.036385  0.021872  0.003935  0.015596  0.008142   \n",
       "..        ...       ...       ...       ...       ...       ...       ...   \n",
       "437  0.041708  0.050680  0.019662  0.059744 -0.005697 -0.002566 -0.028674   \n",
       "438 -0.005515  0.050680 -0.015906 -0.067642  0.049341  0.079165 -0.028674   \n",
       "439  0.041708  0.050680 -0.015906  0.017282 -0.037344 -0.013840 -0.024993   \n",
       "440 -0.045472 -0.044642  0.039062  0.001215  0.016318  0.015283 -0.028674   \n",
       "441 -0.045472 -0.044642 -0.073030 -0.081414  0.083740  0.027809  0.173816   \n",
       "\n",
       "           s4        s5        s6  \n",
       "0   -0.002592  0.019908 -0.017646  \n",
       "1   -0.039493 -0.068330 -0.092204  \n",
       "2   -0.002592  0.002864 -0.025930  \n",
       "3    0.034309  0.022692 -0.009362  \n",
       "4   -0.002592 -0.031991 -0.046641  \n",
       "..        ...       ...       ...  \n",
       "437 -0.002592  0.031193  0.007207  \n",
       "438  0.034309 -0.018118  0.044485  \n",
       "439 -0.011080 -0.046879  0.015491  \n",
       "440  0.026560  0.044528 -0.025930  \n",
       "441 -0.039493 -0.004220  0.003064  \n",
       "\n",
       "[442 rows x 10 columns]"
      ]
     },
     "execution_count": 22,
     "metadata": {},
     "output_type": "execute_result"
    }
   ],
   "source": [
    "X"
   ]
  },
  {
   "cell_type": "markdown",
   "metadata": {},
   "source": [
    "bp-average blood pressure, s1-tc, T-Cells (a type of white blood cells), s2-ldl, low-density lipoproteins, s3-hdl, high-density lipoproteins, s4-tch, thyroid stimulating hormone, s5-ltg, lamotrigine, s6-glu, blood sugar level"
   ]
  },
  {
   "cell_type": "code",
   "execution_count": 23,
   "metadata": {},
   "outputs": [
    {
     "data": {
      "text/plain": [
       "array([151.,  75., 141., 206., 135.,  97., 138.,  63., 110., 310., 101.,\n",
       "        69., 179., 185., 118., 171., 166., 144.,  97., 168.,  68.,  49.,\n",
       "        68., 245., 184., 202., 137.,  85., 131., 283., 129.,  59., 341.,\n",
       "        87.,  65., 102., 265., 276., 252.,  90., 100.,  55.,  61.,  92.,\n",
       "       259.,  53., 190., 142.,  75., 142., 155., 225.,  59., 104., 182.,\n",
       "       128.,  52.,  37., 170., 170.,  61., 144.,  52., 128.,  71., 163.,\n",
       "       150.,  97., 160., 178.,  48., 270., 202., 111.,  85.,  42., 170.,\n",
       "       200., 252., 113., 143.,  51.,  52., 210.,  65., 141.,  55., 134.,\n",
       "        42., 111.,  98., 164.,  48.,  96.,  90., 162., 150., 279.,  92.,\n",
       "        83., 128., 102., 302., 198.,  95.,  53., 134., 144., 232.,  81.,\n",
       "       104.,  59., 246., 297., 258., 229., 275., 281., 179., 200., 200.,\n",
       "       173., 180.,  84., 121., 161.,  99., 109., 115., 268., 274., 158.,\n",
       "       107.,  83., 103., 272.,  85., 280., 336., 281., 118., 317., 235.,\n",
       "        60., 174., 259., 178., 128.,  96., 126., 288.,  88., 292.,  71.,\n",
       "       197., 186.,  25.,  84.,  96., 195.,  53., 217., 172., 131., 214.,\n",
       "        59.,  70., 220., 268., 152.,  47.,  74., 295., 101., 151., 127.,\n",
       "       237., 225.,  81., 151., 107.,  64., 138., 185., 265., 101., 137.,\n",
       "       143., 141.,  79., 292., 178.,  91., 116.,  86., 122.,  72., 129.,\n",
       "       142.,  90., 158.,  39., 196., 222., 277.,  99., 196., 202., 155.,\n",
       "        77., 191.,  70.,  73.,  49.,  65., 263., 248., 296., 214., 185.,\n",
       "        78.,  93., 252., 150.,  77., 208.,  77., 108., 160.,  53., 220.,\n",
       "       154., 259.,  90., 246., 124.,  67.,  72., 257., 262., 275., 177.,\n",
       "        71.,  47., 187., 125.,  78.,  51., 258., 215., 303., 243.,  91.,\n",
       "       150., 310., 153., 346.,  63.,  89.,  50.,  39., 103., 308., 116.,\n",
       "       145.,  74.,  45., 115., 264.,  87., 202., 127., 182., 241.,  66.,\n",
       "        94., 283.,  64., 102., 200., 265.,  94., 230., 181., 156., 233.,\n",
       "        60., 219.,  80.,  68., 332., 248.,  84., 200.,  55.,  85.,  89.,\n",
       "        31., 129.,  83., 275.,  65., 198., 236., 253., 124.,  44., 172.,\n",
       "       114., 142., 109., 180., 144., 163., 147.,  97., 220., 190., 109.,\n",
       "       191., 122., 230., 242., 248., 249., 192., 131., 237.,  78., 135.,\n",
       "       244., 199., 270., 164.,  72.,  96., 306.,  91., 214.,  95., 216.,\n",
       "       263., 178., 113., 200., 139., 139.,  88., 148.,  88., 243.,  71.,\n",
       "        77., 109., 272.,  60.,  54., 221.,  90., 311., 281., 182., 321.,\n",
       "        58., 262., 206., 233., 242., 123., 167.,  63., 197.,  71., 168.,\n",
       "       140., 217., 121., 235., 245.,  40.,  52., 104., 132.,  88.,  69.,\n",
       "       219.,  72., 201., 110.,  51., 277.,  63., 118.,  69., 273., 258.,\n",
       "        43., 198., 242., 232., 175.,  93., 168., 275., 293., 281.,  72.,\n",
       "       140., 189., 181., 209., 136., 261., 113., 131., 174., 257.,  55.,\n",
       "        84.,  42., 146., 212., 233.,  91., 111., 152., 120.,  67., 310.,\n",
       "        94., 183.,  66., 173.,  72.,  49.,  64.,  48., 178., 104., 132.,\n",
       "       220.,  57.])"
      ]
     },
     "execution_count": 23,
     "metadata": {},
     "output_type": "execute_result"
    }
   ],
   "source": [
    "y = diabetes.target\n",
    "y"
   ]
  },
  {
   "cell_type": "code",
   "execution_count": 29,
   "metadata": {},
   "outputs": [],
   "source": [
    "# #input\n",
    "X = diabetes.data\n",
    "n_cols = X.shape[1]\n",
    "# # output\n",
    "y = target = diabetes.target\n"
   ]
  },
  {
   "cell_type": "markdown",
   "metadata": {
    "id": "j1Vsh6cm1Kdv"
   },
   "source": [
    "### Split the data (training/test)"
   ]
  },
  {
   "cell_type": "code",
   "execution_count": 30,
   "metadata": {
    "id": "O341llJz1Kdw"
   },
   "outputs": [],
   "source": [
    "# Create Model\n",
    "from sklearn.model_selection import train_test_split\n",
    "X_train, X_test, y_train, y_test = train_test_split(X, y, random_state=0)"
   ]
  },
  {
   "cell_type": "markdown",
   "metadata": {
    "id": "o4dJViJD1Kd0"
   },
   "source": [
    "### Create the model's architecture"
   ]
  },
  {
   "cell_type": "code",
   "execution_count": 32,
   "metadata": {
    "id": "Tkgf_BLl1Kd1"
   },
   "outputs": [],
   "source": [
    "# insert code here\n",
    "model = keras.models.Sequential()\n",
    "\n",
    "# Add the first hidden layer\n",
    "model.add(keras.layers.Dense(100, activation = 'relu', input_shape = (n_cols,)))\n",
    "# Add the second hidden layer\n",
    "model.add(keras.layers.Dense(50, activation = 'relu'))\n",
    "\n",
    "# Add the output layer\n",
    "model.add(keras.layers.Dense(10, activation = 'linear'))"
   ]
  },
  {
   "cell_type": "code",
   "execution_count": 33,
   "metadata": {},
   "outputs": [
    {
     "name": "stdout",
     "output_type": "stream",
     "text": [
      "Model: \"sequential_4\"\n",
      "_________________________________________________________________\n",
      "Layer (type)                 Output Shape              Param #   \n",
      "=================================================================\n",
      "dense (Dense)                (None, 100)               1100      \n",
      "_________________________________________________________________\n",
      "dense_1 (Dense)              (None, 50)                5050      \n",
      "_________________________________________________________________\n",
      "dense_2 (Dense)              (None, 10)                510       \n",
      "=================================================================\n",
      "Total params: 6,660\n",
      "Trainable params: 6,660\n",
      "Non-trainable params: 0\n",
      "_________________________________________________________________\n",
      "None\n"
     ]
    }
   ],
   "source": [
    "print(model.summary())"
   ]
  },
  {
   "cell_type": "markdown",
   "metadata": {
    "id": "5hQTS42V1Kd4"
   },
   "source": [
    "### Compile the model"
   ]
  },
  {
   "cell_type": "code",
   "execution_count": 34,
   "metadata": {
    "id": "BvLsoanF1Kd5"
   },
   "outputs": [],
   "source": [
    "# insert code here\n",
    "model.compile(\n",
    "    optimizer = 'adam',\n",
    "    loss = 'mse',\n",
    "    metrics = ['mse'])"
   ]
  },
  {
   "cell_type": "markdown",
   "metadata": {
    "id": "6KPQbnEj1Kd7"
   },
   "source": [
    "### Fit the training data"
   ]
  },
  {
   "cell_type": "code",
   "execution_count": 35,
   "metadata": {
    "id": "-oiuHjEj1Kd8"
   },
   "outputs": [
    {
     "name": "stdout",
     "output_type": "stream",
     "text": [
      "Epoch 1/100\n",
      "13/13 [==============================] - 1s 10ms/step - loss: 28650.4453 - mse: 28650.4453 - val_loss: 31329.9570 - val_mse: 31329.9551\n",
      "Epoch 2/100\n",
      "13/13 [==============================] - 0s 2ms/step - loss: 28624.0508 - mse: 28624.0508 - val_loss: 31290.0059 - val_mse: 31290.0059\n",
      "Epoch 3/100\n",
      "13/13 [==============================] - 0s 3ms/step - loss: 28570.7090 - mse: 28570.7090 - val_loss: 31208.3516 - val_mse: 31208.3516\n",
      "Epoch 4/100\n",
      "13/13 [==============================] - 0s 3ms/step - loss: 28464.0039 - mse: 28464.0039 - val_loss: 31048.5723 - val_mse: 31048.5723\n",
      "Epoch 5/100\n",
      "13/13 [==============================] - 0s 3ms/step - loss: 28268.5996 - mse: 28268.5996 - val_loss: 30762.1406 - val_mse: 30762.1406\n",
      "Epoch 6/100\n",
      "13/13 [==============================] - 0s 3ms/step - loss: 27929.2129 - mse: 27929.2129 - val_loss: 30302.0840 - val_mse: 30302.0840\n",
      "Epoch 7/100\n",
      "13/13 [==============================] - 0s 3ms/step - loss: 27396.0879 - mse: 27396.0879 - val_loss: 29591.2832 - val_mse: 29591.2832\n",
      "Epoch 8/100\n",
      "13/13 [==============================] - 0s 3ms/step - loss: 26617.8848 - mse: 26617.8848 - val_loss: 28584.0488 - val_mse: 28584.0488\n",
      "Epoch 9/100\n",
      "13/13 [==============================] - 0s 3ms/step - loss: 25515.6523 - mse: 25515.6523 - val_loss: 27226.5664 - val_mse: 27226.5664\n",
      "Epoch 10/100\n",
      "13/13 [==============================] - 0s 3ms/step - loss: 24087.9180 - mse: 24087.9180 - val_loss: 25491.7500 - val_mse: 25491.7500\n",
      "Epoch 11/100\n",
      "13/13 [==============================] - 0s 3ms/step - loss: 22309.6250 - mse: 22309.6250 - val_loss: 23382.9883 - val_mse: 23382.9883\n",
      "Epoch 12/100\n",
      "13/13 [==============================] - 0s 3ms/step - loss: 20236.1328 - mse: 20236.1328 - val_loss: 20939.9766 - val_mse: 20939.9766\n",
      "Epoch 13/100\n",
      "13/13 [==============================] - 0s 3ms/step - loss: 17864.5371 - mse: 17864.5371 - val_loss: 18258.5762 - val_mse: 18258.5762\n",
      "Epoch 14/100\n",
      "13/13 [==============================] - 0s 3ms/step - loss: 15338.8877 - mse: 15338.8877 - val_loss: 15514.1748 - val_mse: 15514.1729\n",
      "Epoch 15/100\n",
      "13/13 [==============================] - 0s 3ms/step - loss: 12777.7412 - mse: 12777.7412 - val_loss: 12873.9502 - val_mse: 12873.9502\n",
      "Epoch 16/100\n",
      "13/13 [==============================] - 0s 3ms/step - loss: 10464.1533 - mse: 10464.1533 - val_loss: 10378.6104 - val_mse: 10378.6104\n",
      "Epoch 17/100\n",
      "13/13 [==============================] - 0s 3ms/step - loss: 8362.5654 - mse: 8362.5654 - val_loss: 8341.6670 - val_mse: 8341.6670\n",
      "Epoch 18/100\n",
      "13/13 [==============================] - 0s 3ms/step - loss: 6748.8042 - mse: 6748.8042 - val_loss: 6799.4219 - val_mse: 6799.4219\n",
      "Epoch 19/100\n",
      "13/13 [==============================] - 0s 3ms/step - loss: 5660.6924 - mse: 5660.6924 - val_loss: 5712.6641 - val_mse: 5712.6641\n",
      "Epoch 20/100\n",
      "13/13 [==============================] - 0s 2ms/step - loss: 4908.3159 - mse: 4908.3159 - val_loss: 5110.0352 - val_mse: 5110.0352\n",
      "Epoch 21/100\n",
      "13/13 [==============================] - 0s 3ms/step - loss: 4578.9927 - mse: 4578.9927 - val_loss: 4724.4893 - val_mse: 4724.4893\n",
      "Epoch 22/100\n",
      "13/13 [==============================] - 0s 3ms/step - loss: 4377.6543 - mse: 4377.6543 - val_loss: 4505.2500 - val_mse: 4505.2500\n",
      "Epoch 23/100\n",
      "13/13 [==============================] - 0s 3ms/step - loss: 4243.9438 - mse: 4243.9434 - val_loss: 4374.1177 - val_mse: 4374.1177\n",
      "Epoch 24/100\n",
      "13/13 [==============================] - 0s 3ms/step - loss: 4162.8208 - mse: 4162.8208 - val_loss: 4255.4155 - val_mse: 4255.4155\n",
      "Epoch 25/100\n",
      "13/13 [==============================] - 0s 3ms/step - loss: 4086.9241 - mse: 4086.9241 - val_loss: 4160.0732 - val_mse: 4160.0732\n",
      "Epoch 26/100\n",
      "13/13 [==============================] - 0s 3ms/step - loss: 4030.6636 - mse: 4030.6636 - val_loss: 4054.5945 - val_mse: 4054.5945\n",
      "Epoch 27/100\n",
      "13/13 [==============================] - 0s 3ms/step - loss: 3963.6262 - mse: 3963.6262 - val_loss: 3972.4160 - val_mse: 3972.4160\n",
      "Epoch 28/100\n",
      "13/13 [==============================] - 0s 3ms/step - loss: 3912.1885 - mse: 3912.1885 - val_loss: 3894.8606 - val_mse: 3894.8606\n",
      "Epoch 29/100\n",
      "13/13 [==============================] - 0s 3ms/step - loss: 3862.7822 - mse: 3862.7822 - val_loss: 3825.8367 - val_mse: 3825.8362\n",
      "Epoch 30/100\n",
      "13/13 [==============================] - 0s 3ms/step - loss: 3818.9236 - mse: 3818.9236 - val_loss: 3766.0249 - val_mse: 3766.0249\n",
      "Epoch 31/100\n",
      "13/13 [==============================] - 0s 3ms/step - loss: 3777.2329 - mse: 3777.2329 - val_loss: 3714.4585 - val_mse: 3714.4585\n",
      "Epoch 32/100\n",
      "13/13 [==============================] - 0s 3ms/step - loss: 3738.0422 - mse: 3738.0422 - val_loss: 3657.2466 - val_mse: 3657.2466\n",
      "Epoch 33/100\n",
      "13/13 [==============================] - 0s 3ms/step - loss: 3710.4272 - mse: 3710.4272 - val_loss: 3604.4861 - val_mse: 3604.4861\n",
      "Epoch 34/100\n",
      "13/13 [==============================] - 0s 3ms/step - loss: 3671.1355 - mse: 3671.1355 - val_loss: 3565.1514 - val_mse: 3565.1514\n",
      "Epoch 35/100\n",
      "13/13 [==============================] - 0s 3ms/step - loss: 3637.3906 - mse: 3637.3906 - val_loss: 3521.2361 - val_mse: 3521.2361\n",
      "Epoch 36/100\n",
      "13/13 [==============================] - 0s 3ms/step - loss: 3604.9255 - mse: 3604.9255 - val_loss: 3482.5549 - val_mse: 3482.5549\n",
      "Epoch 37/100\n",
      "13/13 [==============================] - 0s 2ms/step - loss: 3582.2864 - mse: 3582.2859 - val_loss: 3441.7117 - val_mse: 3441.7117\n",
      "Epoch 38/100\n",
      "13/13 [==============================] - 0s 3ms/step - loss: 3544.5461 - mse: 3544.5461 - val_loss: 3416.5339 - val_mse: 3416.5339\n",
      "Epoch 39/100\n",
      "13/13 [==============================] - 0s 2ms/step - loss: 3524.3765 - mse: 3524.3760 - val_loss: 3377.4189 - val_mse: 3377.4189\n",
      "Epoch 40/100\n",
      "13/13 [==============================] - 0s 2ms/step - loss: 3490.4907 - mse: 3490.4907 - val_loss: 3347.9153 - val_mse: 3347.9153\n",
      "Epoch 41/100\n",
      "13/13 [==============================] - 0s 2ms/step - loss: 3469.9167 - mse: 3469.9167 - val_loss: 3319.8862 - val_mse: 3319.8862\n",
      "Epoch 42/100\n",
      "13/13 [==============================] - 0s 2ms/step - loss: 3442.2410 - mse: 3442.2410 - val_loss: 3289.8862 - val_mse: 3289.8862\n",
      "Epoch 43/100\n",
      "13/13 [==============================] - 0s 2ms/step - loss: 3417.3921 - mse: 3417.3921 - val_loss: 3254.7668 - val_mse: 3254.7668\n",
      "Epoch 44/100\n",
      "13/13 [==============================] - 0s 2ms/step - loss: 3398.4497 - mse: 3398.4497 - val_loss: 3216.6897 - val_mse: 3216.6897\n",
      "Epoch 45/100\n",
      "13/13 [==============================] - 0s 2ms/step - loss: 3373.8594 - mse: 3373.8594 - val_loss: 3193.8833 - val_mse: 3193.8828\n",
      "Epoch 46/100\n",
      "13/13 [==============================] - 0s 2ms/step - loss: 3356.2905 - mse: 3356.2905 - val_loss: 3166.5449 - val_mse: 3166.5449\n",
      "Epoch 47/100\n",
      "13/13 [==============================] - 0s 2ms/step - loss: 3333.7173 - mse: 3333.7173 - val_loss: 3152.4626 - val_mse: 3152.4626\n",
      "Epoch 48/100\n",
      "13/13 [==============================] - 0s 2ms/step - loss: 3314.2942 - mse: 3314.2942 - val_loss: 3129.1079 - val_mse: 3129.1079\n",
      "Epoch 49/100\n",
      "13/13 [==============================] - 0s 2ms/step - loss: 3297.0264 - mse: 3297.0264 - val_loss: 3106.6548 - val_mse: 3106.6548\n",
      "Epoch 50/100\n",
      "13/13 [==============================] - 0s 2ms/step - loss: 3279.2126 - mse: 3279.2126 - val_loss: 3087.5896 - val_mse: 3087.5896\n",
      "Epoch 51/100\n",
      "13/13 [==============================] - 0s 2ms/step - loss: 3263.2166 - mse: 3263.2166 - val_loss: 3069.7039 - val_mse: 3069.7039\n",
      "Epoch 52/100\n",
      "13/13 [==============================] - 0s 2ms/step - loss: 3248.9092 - mse: 3248.9092 - val_loss: 3055.7915 - val_mse: 3055.7915\n",
      "Epoch 53/100\n",
      "13/13 [==============================] - 0s 2ms/step - loss: 3233.0811 - mse: 3233.0811 - val_loss: 3045.6160 - val_mse: 3045.6160\n",
      "Epoch 54/100\n",
      "13/13 [==============================] - 0s 3ms/step - loss: 3224.5166 - mse: 3224.5166 - val_loss: 3012.5066 - val_mse: 3012.5066\n",
      "Epoch 55/100\n",
      "13/13 [==============================] - 0s 3ms/step - loss: 3200.5427 - mse: 3200.5425 - val_loss: 3000.8853 - val_mse: 3000.8853\n",
      "Epoch 56/100\n",
      "13/13 [==============================] - 0s 2ms/step - loss: 3187.1611 - mse: 3187.1611 - val_loss: 2982.7883 - val_mse: 2982.7883\n",
      "Epoch 57/100\n",
      "13/13 [==============================] - 0s 2ms/step - loss: 3175.8799 - mse: 3175.8799 - val_loss: 2973.7300 - val_mse: 2973.7302\n",
      "Epoch 58/100\n",
      "13/13 [==============================] - 0s 2ms/step - loss: 3159.6921 - mse: 3159.6921 - val_loss: 2953.1343 - val_mse: 2953.1343\n",
      "Epoch 59/100\n",
      "13/13 [==============================] - 0s 2ms/step - loss: 3151.7119 - mse: 3151.7119 - val_loss: 2933.8223 - val_mse: 2933.8223\n",
      "Epoch 60/100\n",
      "13/13 [==============================] - 0s 2ms/step - loss: 3139.1494 - mse: 3139.1494 - val_loss: 2925.1890 - val_mse: 2925.1890\n",
      "Epoch 61/100\n",
      "13/13 [==============================] - 0s 2ms/step - loss: 3123.7180 - mse: 3123.7180 - val_loss: 2908.8137 - val_mse: 2908.8137\n",
      "Epoch 62/100\n",
      "13/13 [==============================] - 0s 2ms/step - loss: 3113.0063 - mse: 3113.0063 - val_loss: 2897.5754 - val_mse: 2897.5754\n",
      "Epoch 63/100\n",
      "13/13 [==============================] - 0s 2ms/step - loss: 3102.6338 - mse: 3102.6338 - val_loss: 2893.1567 - val_mse: 2893.1567\n",
      "Epoch 64/100\n",
      "13/13 [==============================] - 0s 2ms/step - loss: 3091.1963 - mse: 3091.1963 - val_loss: 2877.9126 - val_mse: 2877.9126\n",
      "Epoch 65/100\n",
      "13/13 [==============================] - 0s 2ms/step - loss: 3079.1865 - mse: 3079.1865 - val_loss: 2863.0427 - val_mse: 2863.0427\n",
      "Epoch 66/100\n",
      "13/13 [==============================] - 0s 2ms/step - loss: 3073.7808 - mse: 3073.7808 - val_loss: 2854.1108 - val_mse: 2854.1108\n",
      "Epoch 67/100\n",
      "13/13 [==============================] - 0s 2ms/step - loss: 3070.4897 - mse: 3070.4897 - val_loss: 2838.2231 - val_mse: 2838.2231\n",
      "Epoch 68/100\n",
      "13/13 [==============================] - 0s 2ms/step - loss: 3056.4849 - mse: 3056.4846 - val_loss: 2834.3318 - val_mse: 2834.3318\n",
      "Epoch 69/100\n",
      "13/13 [==============================] - 0s 2ms/step - loss: 3049.0984 - mse: 3049.0984 - val_loss: 2828.2803 - val_mse: 2828.2803\n",
      "Epoch 70/100\n",
      "13/13 [==============================] - 0s 2ms/step - loss: 3045.1428 - mse: 3045.1428 - val_loss: 2825.3828 - val_mse: 2825.3828\n",
      "Epoch 71/100\n",
      "13/13 [==============================] - 0s 2ms/step - loss: 3033.5730 - mse: 3033.5730 - val_loss: 2816.5720 - val_mse: 2816.5720\n",
      "Epoch 72/100\n",
      "13/13 [==============================] - 0s 2ms/step - loss: 3022.8010 - mse: 3022.8010 - val_loss: 2800.1213 - val_mse: 2800.1213\n",
      "Epoch 73/100\n",
      "13/13 [==============================] - 0s 2ms/step - loss: 3019.2847 - mse: 3019.2847 - val_loss: 2797.9351 - val_mse: 2797.9351\n",
      "Epoch 74/100\n",
      "13/13 [==============================] - 0s 2ms/step - loss: 3014.3213 - mse: 3014.3213 - val_loss: 2789.3408 - val_mse: 2789.3408\n",
      "Epoch 75/100\n",
      "13/13 [==============================] - 0s 2ms/step - loss: 3009.1145 - mse: 3009.1145 - val_loss: 2784.9348 - val_mse: 2784.9348\n",
      "Epoch 76/100\n",
      "13/13 [==============================] - 0s 2ms/step - loss: 2999.5999 - mse: 2999.5999 - val_loss: 2774.9167 - val_mse: 2774.9167\n",
      "Epoch 77/100\n",
      "13/13 [==============================] - 0s 2ms/step - loss: 3009.2344 - mse: 3009.2344 - val_loss: 2784.1189 - val_mse: 2784.1189\n",
      "Epoch 78/100\n",
      "13/13 [==============================] - 0s 2ms/step - loss: 2988.2781 - mse: 2988.2781 - val_loss: 2765.6929 - val_mse: 2765.6929\n",
      "Epoch 79/100\n",
      "13/13 [==============================] - 0s 2ms/step - loss: 2987.0037 - mse: 2987.0037 - val_loss: 2766.2686 - val_mse: 2766.2686\n",
      "Epoch 80/100\n",
      "13/13 [==============================] - 0s 2ms/step - loss: 2977.4006 - mse: 2977.4006 - val_loss: 2757.0186 - val_mse: 2757.0186\n",
      "Epoch 81/100\n",
      "13/13 [==============================] - 0s 2ms/step - loss: 2972.9448 - mse: 2972.9448 - val_loss: 2748.8926 - val_mse: 2748.8926\n",
      "Epoch 82/100\n",
      "13/13 [==============================] - 0s 2ms/step - loss: 2971.5115 - mse: 2971.5115 - val_loss: 2743.4824 - val_mse: 2743.4824\n",
      "Epoch 83/100\n",
      "13/13 [==============================] - 0s 2ms/step - loss: 2968.7961 - mse: 2968.7961 - val_loss: 2744.9849 - val_mse: 2744.9849\n",
      "Epoch 84/100\n",
      "13/13 [==============================] - 0s 2ms/step - loss: 2961.3643 - mse: 2961.3643 - val_loss: 2735.1543 - val_mse: 2735.1543\n",
      "Epoch 85/100\n",
      "13/13 [==============================] - 0s 2ms/step - loss: 2975.3826 - mse: 2975.3826 - val_loss: 2729.9561 - val_mse: 2729.9561\n",
      "Epoch 86/100\n",
      "13/13 [==============================] - 0s 2ms/step - loss: 2952.0308 - mse: 2952.0308 - val_loss: 2734.1301 - val_mse: 2734.1301\n",
      "Epoch 87/100\n",
      "13/13 [==============================] - 0s 2ms/step - loss: 2954.5332 - mse: 2954.5332 - val_loss: 2745.5850 - val_mse: 2745.5850\n",
      "Epoch 88/100\n",
      "13/13 [==============================] - 0s 2ms/step - loss: 2945.4011 - mse: 2945.4011 - val_loss: 2731.7500 - val_mse: 2731.7500\n",
      "Epoch 89/100\n",
      "13/13 [==============================] - 0s 2ms/step - loss: 2943.3125 - mse: 2943.3125 - val_loss: 2723.5029 - val_mse: 2723.5029\n",
      "Epoch 90/100\n",
      "13/13 [==============================] - 0s 2ms/step - loss: 2939.9912 - mse: 2939.9912 - val_loss: 2726.2986 - val_mse: 2726.2983\n",
      "Epoch 91/100\n",
      "13/13 [==============================] - 0s 2ms/step - loss: 2939.6272 - mse: 2939.6272 - val_loss: 2721.1306 - val_mse: 2721.1306\n",
      "Epoch 92/100\n",
      "13/13 [==============================] - 0s 2ms/step - loss: 2935.6140 - mse: 2935.6140 - val_loss: 2711.9551 - val_mse: 2711.9551\n",
      "Epoch 93/100\n",
      "13/13 [==============================] - 0s 2ms/step - loss: 2933.5107 - mse: 2933.5107 - val_loss: 2713.2002 - val_mse: 2713.2002\n",
      "Epoch 94/100\n",
      "13/13 [==============================] - 0s 2ms/step - loss: 2928.0608 - mse: 2928.0608 - val_loss: 2707.9219 - val_mse: 2707.9219\n",
      "Epoch 95/100\n",
      "13/13 [==============================] - 0s 2ms/step - loss: 2929.5747 - mse: 2929.5747 - val_loss: 2711.0396 - val_mse: 2711.0396\n",
      "Epoch 96/100\n",
      "13/13 [==============================] - 0s 2ms/step - loss: 2925.1458 - mse: 2925.1458 - val_loss: 2708.3596 - val_mse: 2708.3596\n",
      "Epoch 97/100\n",
      "13/13 [==============================] - 0s 2ms/step - loss: 2924.8894 - mse: 2924.8894 - val_loss: 2703.0876 - val_mse: 2703.0876\n",
      "Epoch 98/100\n",
      "13/13 [==============================] - 0s 2ms/step - loss: 2920.8513 - mse: 2920.8513 - val_loss: 2691.3079 - val_mse: 2691.3079\n",
      "Epoch 99/100\n",
      "13/13 [==============================] - 0s 2ms/step - loss: 2920.1968 - mse: 2920.1973 - val_loss: 2692.4856 - val_mse: 2692.4856\n",
      "Epoch 100/100\n",
      "13/13 [==============================] - 0s 2ms/step - loss: 2916.6116 - mse: 2916.6116 - val_loss: 2692.5718 - val_mse: 2692.5718\n",
      "CPU times: user 4.53 s, sys: 1.1 s, total: 5.63 s\n",
      "Wall time: 3.72 s\n"
     ]
    }
   ],
   "source": [
    "%%time\n",
    "# insert code here\n",
    "history = model.fit(\n",
    "    X_train,\n",
    "    y_train,\n",
    "    validation_split = 0.25,\n",
    "    batch_size = 20,\n",
    "    epochs = 100,\n",
    "    verbose = 1)"
   ]
  },
  {
   "cell_type": "markdown",
   "metadata": {
    "id": "CR-kCu3c1Kd-"
   },
   "source": [
    "### Create predictions"
   ]
  },
  {
   "cell_type": "code",
   "execution_count": 38,
   "metadata": {
    "id": "wkywKqPg1Kd-"
   },
   "outputs": [],
   "source": [
    "# insert code here\n",
    "predictions = model.predict(X_test)"
   ]
  },
  {
   "cell_type": "markdown",
   "metadata": {
    "id": "-unEmrGo1KeA"
   },
   "source": [
    "### Evaluate the model"
   ]
  },
  {
   "cell_type": "code",
   "execution_count": 46,
   "metadata": {
    "id": "QCIVpVrG1KeB"
   },
   "outputs": [
    {
     "name": "stdout",
     "output_type": "stream",
     "text": [
      "4/4 [==============================] - 0s 1ms/step - loss: 3102.6077 - mse: 3102.6077\n",
      "mse = [3102.607666015625, 3102.607666015625]\n",
      "rmse = 55.70105623788139\n"
     ]
    }
   ],
   "source": [
    "score = model.evaluate(X_test, y_test)\n",
    "rmse = score[0] ** 0.5\n",
    "print('mse = '+ str(score))\n",
    "print('rmse = '+ str(rmse))"
   ]
  },
  {
   "cell_type": "markdown",
   "metadata": {
    "id": "sSlqjs7e1KeD"
   },
   "source": [
    "### Visualisation of cost"
   ]
  },
  {
   "cell_type": "code",
   "execution_count": 47,
   "metadata": {
    "id": "1F6hYpNh1KeE",
    "scrolled": true
   },
   "outputs": [
    {
     "data": {
      "image/png": "[encoded data removed]",
      "text/plain": [
       "<Figure size 1296x432 with 2 Axes>"
      ]
     },
     "metadata": {
      "needs_background": "light"
     },
     "output_type": "display_data"
    }
   ],
   "source": [
    "# insert code here\n",
    "fig, ax = plt.subplots(1, 2, figsize = (18, 6))\n",
    "fig.subplots_adjust(left = 0.02, right = 0.98, wspace = 0.2)\n",
    "\n",
    "plt.rcParams.update({'font.size': 18})\n",
    "\n",
    "# Plot training & validation accuracy values\n",
    "ax[0].plot(history.history['mse'], label = 'Training')\n",
    "ax[0].plot(history.history['val_mse'], label = 'Validation')\n",
    "ax[0].set_title('Model mse')\n",
    "ax[0].set_ylabel('MSE')\n",
    "ax[0].set_xlabel('Epoch')\n",
    "ax[0].legend()\n",
    "\n",
    "# Plot training & validation loss values\n",
    "ax[1].plot(history.history['loss'], label = 'Training')\n",
    "ax[1].plot(history.history['val_loss'], label = 'Validation')\n",
    "ax[1].set_title('Model loss')\n",
    "ax[1].set_ylabel('Loss')\n",
    "ax[1].set_xlabel('Epoch')\n",
    "ax[1].legend()\n",
    "\n",
    "plt.show()"
   ]
  },
  {
   "cell_type": "markdown",
   "metadata": {
    "id": "vQLzMZTM1KeG"
   },
   "source": [
    "### Visualisation of residuals"
   ]
  },
  {
   "cell_type": "code",
   "execution_count": null,
   "metadata": {
    "id": "opIulVSw1KeH"
   },
   "outputs": [],
   "source": [
    "# insert code here"
   ]
  },
  {
   "cell_type": "markdown",
   "metadata": {
    "id": "RERADKgNFq9T"
   },
   "source": [
    "\n",
    "\n",
    "---\n",
    "\n",
    "\n",
    "\n",
    "---\n",
    "\n",
    "\n",
    "\n",
    "> > > > > > > > > © 2021 Institute of Data\n",
    "\n",
    "\n",
    "---\n",
    "\n",
    "\n",
    "\n",
    "---\n",
    "\n",
    "\n",
    "\n"
   ]
  }
 ],
 "metadata": {
  "colab": {
   "collapsed_sections": [],
   "name": "IOD_Lab-9_1.ipynb",
   "provenance": []
  },
  "kernelspec": {
   "display_name": "Python 3",
   "language": "python",
   "name": "python3"
  },
  "language_info": {
   "codemirror_mode": {
    "name": "ipython",
    "version": 3
   },
   "file_extension": ".py",
   "mimetype": "text/x-python",
   "name": "python",
   "nbconvert_exporter": "python",
   "pygments_lexer": "ipython3",
   "version": "3.8.5"
  }
 },
 "nbformat": 4,
 "nbformat_minor": 1
}

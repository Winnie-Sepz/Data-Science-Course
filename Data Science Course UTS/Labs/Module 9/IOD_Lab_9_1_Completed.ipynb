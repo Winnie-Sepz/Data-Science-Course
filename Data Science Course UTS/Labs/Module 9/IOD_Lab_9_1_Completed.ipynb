{
 "cells": [
  {
   "cell_type": "markdown",
   "metadata": {
    "id": "gn3SG1yo1KdV"
   },
   "source": [
    "<div>\n",
    "<img src=https://www.institutedata.com/wp-content/uploads/2019/10/iod_h_tp_primary_c.svg width=\"300\">\n",
    "</div>"
   ]
  },
  {
   "cell_type": "markdown",
   "metadata": {
    "id": "g-SD7a9X1KdY"
   },
   "source": [
    "# Lab 9.1: NN with Keras\n",
    "INSTRUCTIONS:\n",
    "- Read the guides and hints, then create the necessary analysis and code to find an answer and conclusion for the task below.\n",
    "- **NOTE**: This is a Regression problem. Consider the appropriate:\n",
    "    - Activation function\n",
    "    - Loss/Cost Function\n",
    "    - Metrics"
   ]
  },
  {
   "cell_type": "markdown",
   "metadata": {
    "id": "ENgfRnvL1Kdc"
   },
   "source": [
    "### Import libraries"
   ]
  },
  {
   "cell_type": "code",
   "execution_count": 10,
   "metadata": {
    "id": "Z9H465X-1Kde"
   },
   "outputs": [],
   "source": [
    "# insert code here\n",
    "import numpy as np\n",
    "import pandas as pd\n",
    "\n",
    "# Load the diabetes dataset from sklearn\n",
    "from sklearn import datasets\n",
    "\n",
    "%matplotlib inline\n",
    "import matplotlib.pyplot as plt\n",
    "\n",
    "import tensorflow"
   ]
  },
  {
   "cell_type": "code",
   "execution_count": 11,
   "metadata": {},
   "outputs": [],
   "source": [
    "from tensorflow import keras"
   ]
  },
  {
   "cell_type": "markdown",
   "metadata": {
    "id": "5FHh910J1Kdm"
   },
   "source": [
    "### Load data\n",
    "Load the Diabetes dataset from **SciKit-Learn**."
   ]
  },
  {
   "cell_type": "code",
   "execution_count": 12,
   "metadata": {
    "id": "MWu8SlQF1Kdo"
   },
   "outputs": [
    {
     "data": {
      "text/plain": [
       "{'data': array([[ 0.03807591,  0.05068012,  0.06169621, ..., -0.00259226,\n",
       "          0.01990842, -0.01764613],\n",
       "        [-0.00188202, -0.04464164, -0.05147406, ..., -0.03949338,\n",
       "         -0.06832974, -0.09220405],\n",
       "        [ 0.08529891,  0.05068012,  0.04445121, ..., -0.00259226,\n",
       "          0.00286377, -0.02593034],\n",
       "        ...,\n",
       "        [ 0.04170844,  0.05068012, -0.01590626, ..., -0.01107952,\n",
       "         -0.04687948,  0.01549073],\n",
       "        [-0.04547248, -0.04464164,  0.03906215, ...,  0.02655962,\n",
       "          0.04452837, -0.02593034],\n",
       "        [-0.04547248, -0.04464164, -0.0730303 , ..., -0.03949338,\n",
       "         -0.00421986,  0.00306441]]),\n",
       " 'target': array([151.,  75., 141., 206., 135.,  97., 138.,  63., 110., 310., 101.,\n",
       "         69., 179., 185., 118., 171., 166., 144.,  97., 168.,  68.,  49.,\n",
       "         68., 245., 184., 202., 137.,  85., 131., 283., 129.,  59., 341.,\n",
       "         87.,  65., 102., 265., 276., 252.,  90., 100.,  55.,  61.,  92.,\n",
       "        259.,  53., 190., 142.,  75., 142., 155., 225.,  59., 104., 182.,\n",
       "        128.,  52.,  37., 170., 170.,  61., 144.,  52., 128.,  71., 163.,\n",
       "        150.,  97., 160., 178.,  48., 270., 202., 111.,  85.,  42., 170.,\n",
       "        200., 252., 113., 143.,  51.,  52., 210.,  65., 141.,  55., 134.,\n",
       "         42., 111.,  98., 164.,  48.,  96.,  90., 162., 150., 279.,  92.,\n",
       "         83., 128., 102., 302., 198.,  95.,  53., 134., 144., 232.,  81.,\n",
       "        104.,  59., 246., 297., 258., 229., 275., 281., 179., 200., 200.,\n",
       "        173., 180.,  84., 121., 161.,  99., 109., 115., 268., 274., 158.,\n",
       "        107.,  83., 103., 272.,  85., 280., 336., 281., 118., 317., 235.,\n",
       "         60., 174., 259., 178., 128.,  96., 126., 288.,  88., 292.,  71.,\n",
       "        197., 186.,  25.,  84.,  96., 195.,  53., 217., 172., 131., 214.,\n",
       "         59.,  70., 220., 268., 152.,  47.,  74., 295., 101., 151., 127.,\n",
       "        237., 225.,  81., 151., 107.,  64., 138., 185., 265., 101., 137.,\n",
       "        143., 141.,  79., 292., 178.,  91., 116.,  86., 122.,  72., 129.,\n",
       "        142.,  90., 158.,  39., 196., 222., 277.,  99., 196., 202., 155.,\n",
       "         77., 191.,  70.,  73.,  49.,  65., 263., 248., 296., 214., 185.,\n",
       "         78.,  93., 252., 150.,  77., 208.,  77., 108., 160.,  53., 220.,\n",
       "        154., 259.,  90., 246., 124.,  67.,  72., 257., 262., 275., 177.,\n",
       "         71.,  47., 187., 125.,  78.,  51., 258., 215., 303., 243.,  91.,\n",
       "        150., 310., 153., 346.,  63.,  89.,  50.,  39., 103., 308., 116.,\n",
       "        145.,  74.,  45., 115., 264.,  87., 202., 127., 182., 241.,  66.,\n",
       "         94., 283.,  64., 102., 200., 265.,  94., 230., 181., 156., 233.,\n",
       "         60., 219.,  80.,  68., 332., 248.,  84., 200.,  55.,  85.,  89.,\n",
       "         31., 129.,  83., 275.,  65., 198., 236., 253., 124.,  44., 172.,\n",
       "        114., 142., 109., 180., 144., 163., 147.,  97., 220., 190., 109.,\n",
       "        191., 122., 230., 242., 248., 249., 192., 131., 237.,  78., 135.,\n",
       "        244., 199., 270., 164.,  72.,  96., 306.,  91., 214.,  95., 216.,\n",
       "        263., 178., 113., 200., 139., 139.,  88., 148.,  88., 243.,  71.,\n",
       "         77., 109., 272.,  60.,  54., 221.,  90., 311., 281., 182., 321.,\n",
       "         58., 262., 206., 233., 242., 123., 167.,  63., 197.,  71., 168.,\n",
       "        140., 217., 121., 235., 245.,  40.,  52., 104., 132.,  88.,  69.,\n",
       "        219.,  72., 201., 110.,  51., 277.,  63., 118.,  69., 273., 258.,\n",
       "         43., 198., 242., 232., 175.,  93., 168., 275., 293., 281.,  72.,\n",
       "        140., 189., 181., 209., 136., 261., 113., 131., 174., 257.,  55.,\n",
       "         84.,  42., 146., 212., 233.,  91., 111., 152., 120.,  67., 310.,\n",
       "         94., 183.,  66., 173.,  72.,  49.,  64.,  48., 178., 104., 132.,\n",
       "        220.,  57.]),\n",
       " 'frame': None,\n",
       " 'DESCR': '.. _diabetes_dataset:\\n\\nDiabetes dataset\\n----------------\\n\\nTen baseline variables, age, sex, body mass index, average blood\\npressure, and six blood serum measurements were obtained for each of n =\\n442 diabetes patients, as well as the response of interest, a\\nquantitative measure of disease progression one year after baseline.\\n\\n**Data Set Characteristics:**\\n\\n  :Number of Instances: 442\\n\\n  :Number of Attributes: First 10 columns are numeric predictive values\\n\\n  :Target: Column 11 is a quantitative measure of disease progression one year after baseline\\n\\n  :Attribute Information:\\n      - age     age in years\\n      - sex\\n      - bmi     body mass index\\n      - bp      average blood pressure\\n      - s1      tc, T-Cells (a type of white blood cells)\\n      - s2      ldl, low-density lipoproteins\\n      - s3      hdl, high-density lipoproteins\\n      - s4      tch, thyroid stimulating hormone\\n      - s5      ltg, lamotrigine\\n      - s6      glu, blood sugar level\\n\\nNote: Each of these 10 feature variables have been mean centered and scaled by the standard deviation times `n_samples` (i.e. the sum of squares of each column totals 1).\\n\\nSource URL:\\nhttps://www4.stat.ncsu.edu/~boos/var.select/diabetes.html\\n\\nFor more information see:\\nBradley Efron, Trevor Hastie, Iain Johnstone and Robert Tibshirani (2004) \"Least Angle Regression,\" Annals of Statistics (with discussion), 407-499.\\n(https://web.stanford.edu/~hastie/Papers/LARS/LeastAngle_2002.pdf)',\n",
       " 'feature_names': ['age',\n",
       "  'sex',\n",
       "  'bmi',\n",
       "  'bp',\n",
       "  's1',\n",
       "  's2',\n",
       "  's3',\n",
       "  's4',\n",
       "  's5',\n",
       "  's6'],\n",
       " 'data_filename': '/opt/anaconda3/lib/python3.8/site-packages/sklearn/datasets/data/diabetes_data.csv.gz',\n",
       " 'target_filename': '/opt/anaconda3/lib/python3.8/site-packages/sklearn/datasets/data/diabetes_target.csv.gz'}"
      ]
     },
     "execution_count": 12,
     "metadata": {},
     "output_type": "execute_result"
    }
   ],
   "source": [
    "## Load the Diabetes dataset\n",
    "diabetes = datasets.load_diabetes()\n",
    "datasets.load_diabetes()"
   ]
  },
  {
   "cell_type": "code",
   "execution_count": 13,
   "metadata": {},
   "outputs": [
    {
     "name": "stdout",
     "output_type": "stream",
     "text": [
      ".. _diabetes_dataset:\n",
      "\n",
      "Diabetes dataset\n",
      "----------------\n",
      "\n",
      "Ten baseline variables, age, sex, body mass index, average blood\n",
      "pressure, and six blood serum measurements were obtained for each of n =\n",
      "442 diabetes patients, as well as the response of interest, a\n",
      "quantitative measure of disease progression one year after baseline.\n",
      "\n",
      "**Data Set Characteristics:**\n",
      "\n",
      "  :Number of Instances: 442\n",
      "\n",
      "  :Number of Attributes: First 10 columns are numeric predictive values\n",
      "\n",
      "  :Target: Column 11 is a quantitative measure of disease progression one year after baseline\n",
      "\n",
      "  :Attribute Information:\n",
      "      - age     age in years\n",
      "      - sex\n",
      "      - bmi     body mass index\n",
      "      - bp      average blood pressure\n",
      "      - s1      tc, T-Cells (a type of white blood cells)\n",
      "      - s2      ldl, low-density lipoproteins\n",
      "      - s3      hdl, high-density lipoproteins\n",
      "      - s4      tch, thyroid stimulating hormone\n",
      "      - s5      ltg, lamotrigine\n",
      "      - s6      glu, blood sugar level\n",
      "\n",
      "Note: Each of these 10 feature variables have been mean centered and scaled by the standard deviation times `n_samples` (i.e. the sum of squares of each column totals 1).\n",
      "\n",
      "Source URL:\n",
      "https://www4.stat.ncsu.edu/~boos/var.select/diabetes.html\n",
      "\n",
      "For more information see:\n",
      "Bradley Efron, Trevor Hastie, Iain Johnstone and Robert Tibshirani (2004) \"Least Angle Regression,\" Annals of Statistics (with discussion), 407-499.\n",
      "(https://web.stanford.edu/~hastie/Papers/LARS/LeastAngle_2002.pdf)\n"
     ]
    }
   ],
   "source": [
    "print(diabetes.DESCR)"
   ]
  },
  {
   "cell_type": "markdown",
   "metadata": {},
   "source": [
    "# Prepare input data"
   ]
  },
  {
   "cell_type": "code",
   "execution_count": 14,
   "metadata": {},
   "outputs": [
    {
     "data": {
      "text/plain": [
       "array([[ 0.03807591,  0.05068012,  0.06169621, ..., -0.00259226,\n",
       "         0.01990842, -0.01764613],\n",
       "       [-0.00188202, -0.04464164, -0.05147406, ..., -0.03949338,\n",
       "        -0.06832974, -0.09220405],\n",
       "       [ 0.08529891,  0.05068012,  0.04445121, ..., -0.00259226,\n",
       "         0.00286377, -0.02593034],\n",
       "       ...,\n",
       "       [ 0.04170844,  0.05068012, -0.01590626, ..., -0.01107952,\n",
       "        -0.04687948,  0.01549073],\n",
       "       [-0.04547248, -0.04464164,  0.03906215, ...,  0.02655962,\n",
       "         0.04452837, -0.02593034],\n",
       "       [-0.04547248, -0.04464164, -0.0730303 , ..., -0.03949338,\n",
       "        -0.00421986,  0.00306441]])"
      ]
     },
     "execution_count": 14,
     "metadata": {},
     "output_type": "execute_result"
    }
   ],
   "source": [
    "diabetes.data #It's a dictionary"
   ]
  },
  {
   "cell_type": "code",
   "execution_count": 15,
   "metadata": {},
   "outputs": [],
   "source": [
    "column_names= diabetes.feature_names"
   ]
  },
  {
   "cell_type": "code",
   "execution_count": 16,
   "metadata": {},
   "outputs": [],
   "source": [
    "X=pd.DataFrame(data=diabetes.data, columns=column_names)"
   ]
  },
  {
   "cell_type": "code",
   "execution_count": 17,
   "metadata": {},
   "outputs": [
    {
     "data": {
      "text/html": [
       "<div>\n",
       "<style scoped>\n",
       "    .dataframe tbody tr th:only-of-type {\n",
       "        vertical-align: middle;\n",
       "    }\n",
       "\n",
       "    .dataframe tbody tr th {\n",
       "        vertical-align: top;\n",
       "    }\n",
       "\n",
       "    .dataframe thead th {\n",
       "        text-align: right;\n",
       "    }\n",
       "</style>\n",
       "<table border=\"1\" class=\"dataframe\">\n",
       "  <thead>\n",
       "    <tr style=\"text-align: right;\">\n",
       "      <th></th>\n",
       "      <th>age</th>\n",
       "      <th>sex</th>\n",
       "      <th>bmi</th>\n",
       "      <th>bp</th>\n",
       "      <th>s1</th>\n",
       "      <th>s2</th>\n",
       "      <th>s3</th>\n",
       "      <th>s4</th>\n",
       "      <th>s5</th>\n",
       "      <th>s6</th>\n",
       "    </tr>\n",
       "  </thead>\n",
       "  <tbody>\n",
       "    <tr>\n",
       "      <th>0</th>\n",
       "      <td>0.038076</td>\n",
       "      <td>0.050680</td>\n",
       "      <td>0.061696</td>\n",
       "      <td>0.021872</td>\n",
       "      <td>-0.044223</td>\n",
       "      <td>-0.034821</td>\n",
       "      <td>-0.043401</td>\n",
       "      <td>-0.002592</td>\n",
       "      <td>0.019908</td>\n",
       "      <td>-0.017646</td>\n",
       "    </tr>\n",
       "    <tr>\n",
       "      <th>1</th>\n",
       "      <td>-0.001882</td>\n",
       "      <td>-0.044642</td>\n",
       "      <td>-0.051474</td>\n",
       "      <td>-0.026328</td>\n",
       "      <td>-0.008449</td>\n",
       "      <td>-0.019163</td>\n",
       "      <td>0.074412</td>\n",
       "      <td>-0.039493</td>\n",
       "      <td>-0.068330</td>\n",
       "      <td>-0.092204</td>\n",
       "    </tr>\n",
       "    <tr>\n",
       "      <th>2</th>\n",
       "      <td>0.085299</td>\n",
       "      <td>0.050680</td>\n",
       "      <td>0.044451</td>\n",
       "      <td>-0.005671</td>\n",
       "      <td>-0.045599</td>\n",
       "      <td>-0.034194</td>\n",
       "      <td>-0.032356</td>\n",
       "      <td>-0.002592</td>\n",
       "      <td>0.002864</td>\n",
       "      <td>-0.025930</td>\n",
       "    </tr>\n",
       "    <tr>\n",
       "      <th>3</th>\n",
       "      <td>-0.089063</td>\n",
       "      <td>-0.044642</td>\n",
       "      <td>-0.011595</td>\n",
       "      <td>-0.036656</td>\n",
       "      <td>0.012191</td>\n",
       "      <td>0.024991</td>\n",
       "      <td>-0.036038</td>\n",
       "      <td>0.034309</td>\n",
       "      <td>0.022692</td>\n",
       "      <td>-0.009362</td>\n",
       "    </tr>\n",
       "    <tr>\n",
       "      <th>4</th>\n",
       "      <td>0.005383</td>\n",
       "      <td>-0.044642</td>\n",
       "      <td>-0.036385</td>\n",
       "      <td>0.021872</td>\n",
       "      <td>0.003935</td>\n",
       "      <td>0.015596</td>\n",
       "      <td>0.008142</td>\n",
       "      <td>-0.002592</td>\n",
       "      <td>-0.031991</td>\n",
       "      <td>-0.046641</td>\n",
       "    </tr>\n",
       "    <tr>\n",
       "      <th>...</th>\n",
       "      <td>...</td>\n",
       "      <td>...</td>\n",
       "      <td>...</td>\n",
       "      <td>...</td>\n",
       "      <td>...</td>\n",
       "      <td>...</td>\n",
       "      <td>...</td>\n",
       "      <td>...</td>\n",
       "      <td>...</td>\n",
       "      <td>...</td>\n",
       "    </tr>\n",
       "    <tr>\n",
       "      <th>437</th>\n",
       "      <td>0.041708</td>\n",
       "      <td>0.050680</td>\n",
       "      <td>0.019662</td>\n",
       "      <td>0.059744</td>\n",
       "      <td>-0.005697</td>\n",
       "      <td>-0.002566</td>\n",
       "      <td>-0.028674</td>\n",
       "      <td>-0.002592</td>\n",
       "      <td>0.031193</td>\n",
       "      <td>0.007207</td>\n",
       "    </tr>\n",
       "    <tr>\n",
       "      <th>438</th>\n",
       "      <td>-0.005515</td>\n",
       "      <td>0.050680</td>\n",
       "      <td>-0.015906</td>\n",
       "      <td>-0.067642</td>\n",
       "      <td>0.049341</td>\n",
       "      <td>0.079165</td>\n",
       "      <td>-0.028674</td>\n",
       "      <td>0.034309</td>\n",
       "      <td>-0.018118</td>\n",
       "      <td>0.044485</td>\n",
       "    </tr>\n",
       "    <tr>\n",
       "      <th>439</th>\n",
       "      <td>0.041708</td>\n",
       "      <td>0.050680</td>\n",
       "      <td>-0.015906</td>\n",
       "      <td>0.017282</td>\n",
       "      <td>-0.037344</td>\n",
       "      <td>-0.013840</td>\n",
       "      <td>-0.024993</td>\n",
       "      <td>-0.011080</td>\n",
       "      <td>-0.046879</td>\n",
       "      <td>0.015491</td>\n",
       "    </tr>\n",
       "    <tr>\n",
       "      <th>440</th>\n",
       "      <td>-0.045472</td>\n",
       "      <td>-0.044642</td>\n",
       "      <td>0.039062</td>\n",
       "      <td>0.001215</td>\n",
       "      <td>0.016318</td>\n",
       "      <td>0.015283</td>\n",
       "      <td>-0.028674</td>\n",
       "      <td>0.026560</td>\n",
       "      <td>0.044528</td>\n",
       "      <td>-0.025930</td>\n",
       "    </tr>\n",
       "    <tr>\n",
       "      <th>441</th>\n",
       "      <td>-0.045472</td>\n",
       "      <td>-0.044642</td>\n",
       "      <td>-0.073030</td>\n",
       "      <td>-0.081414</td>\n",
       "      <td>0.083740</td>\n",
       "      <td>0.027809</td>\n",
       "      <td>0.173816</td>\n",
       "      <td>-0.039493</td>\n",
       "      <td>-0.004220</td>\n",
       "      <td>0.003064</td>\n",
       "    </tr>\n",
       "  </tbody>\n",
       "</table>\n",
       "<p>442 rows × 10 columns</p>\n",
       "</div>"
      ],
      "text/plain": [
       "          age       sex       bmi        bp        s1        s2        s3  \\\n",
       "0    0.038076  0.050680  0.061696  0.021872 -0.044223 -0.034821 -0.043401   \n",
       "1   -0.001882 -0.044642 -0.051474 -0.026328 -0.008449 -0.019163  0.074412   \n",
       "2    0.085299  0.050680  0.044451 -0.005671 -0.045599 -0.034194 -0.032356   \n",
       "3   -0.089063 -0.044642 -0.011595 -0.036656  0.012191  0.024991 -0.036038   \n",
       "4    0.005383 -0.044642 -0.036385  0.021872  0.003935  0.015596  0.008142   \n",
       "..        ...       ...       ...       ...       ...       ...       ...   \n",
       "437  0.041708  0.050680  0.019662  0.059744 -0.005697 -0.002566 -0.028674   \n",
       "438 -0.005515  0.050680 -0.015906 -0.067642  0.049341  0.079165 -0.028674   \n",
       "439  0.041708  0.050680 -0.015906  0.017282 -0.037344 -0.013840 -0.024993   \n",
       "440 -0.045472 -0.044642  0.039062  0.001215  0.016318  0.015283 -0.028674   \n",
       "441 -0.045472 -0.044642 -0.073030 -0.081414  0.083740  0.027809  0.173816   \n",
       "\n",
       "           s4        s5        s6  \n",
       "0   -0.002592  0.019908 -0.017646  \n",
       "1   -0.039493 -0.068330 -0.092204  \n",
       "2   -0.002592  0.002864 -0.025930  \n",
       "3    0.034309  0.022692 -0.009362  \n",
       "4   -0.002592 -0.031991 -0.046641  \n",
       "..        ...       ...       ...  \n",
       "437 -0.002592  0.031193  0.007207  \n",
       "438  0.034309 -0.018118  0.044485  \n",
       "439 -0.011080 -0.046879  0.015491  \n",
       "440  0.026560  0.044528 -0.025930  \n",
       "441 -0.039493 -0.004220  0.003064  \n",
       "\n",
       "[442 rows x 10 columns]"
      ]
     },
     "execution_count": 17,
     "metadata": {},
     "output_type": "execute_result"
    }
   ],
   "source": [
    "X"
   ]
  },
  {
   "cell_type": "markdown",
   "metadata": {},
   "source": [
    "bp-average blood pressure, s1-tc, T-Cells (a type of white blood cells), s2-ldl, low-density lipoproteins, s3-hdl, high-density lipoproteins, s4-tch, thyroid stimulating hormone, s5-ltg, lamotrigine, s6-glu, blood sugar level"
   ]
  },
  {
   "cell_type": "code",
   "execution_count": 18,
   "metadata": {},
   "outputs": [
    {
     "data": {
      "text/plain": [
       "array([151.,  75., 141., 206., 135.,  97., 138.,  63., 110., 310., 101.,\n",
       "        69., 179., 185., 118., 171., 166., 144.,  97., 168.,  68.,  49.,\n",
       "        68., 245., 184., 202., 137.,  85., 131., 283., 129.,  59., 341.,\n",
       "        87.,  65., 102., 265., 276., 252.,  90., 100.,  55.,  61.,  92.,\n",
       "       259.,  53., 190., 142.,  75., 142., 155., 225.,  59., 104., 182.,\n",
       "       128.,  52.,  37., 170., 170.,  61., 144.,  52., 128.,  71., 163.,\n",
       "       150.,  97., 160., 178.,  48., 270., 202., 111.,  85.,  42., 170.,\n",
       "       200., 252., 113., 143.,  51.,  52., 210.,  65., 141.,  55., 134.,\n",
       "        42., 111.,  98., 164.,  48.,  96.,  90., 162., 150., 279.,  92.,\n",
       "        83., 128., 102., 302., 198.,  95.,  53., 134., 144., 232.,  81.,\n",
       "       104.,  59., 246., 297., 258., 229., 275., 281., 179., 200., 200.,\n",
       "       173., 180.,  84., 121., 161.,  99., 109., 115., 268., 274., 158.,\n",
       "       107.,  83., 103., 272.,  85., 280., 336., 281., 118., 317., 235.,\n",
       "        60., 174., 259., 178., 128.,  96., 126., 288.,  88., 292.,  71.,\n",
       "       197., 186.,  25.,  84.,  96., 195.,  53., 217., 172., 131., 214.,\n",
       "        59.,  70., 220., 268., 152.,  47.,  74., 295., 101., 151., 127.,\n",
       "       237., 225.,  81., 151., 107.,  64., 138., 185., 265., 101., 137.,\n",
       "       143., 141.,  79., 292., 178.,  91., 116.,  86., 122.,  72., 129.,\n",
       "       142.,  90., 158.,  39., 196., 222., 277.,  99., 196., 202., 155.,\n",
       "        77., 191.,  70.,  73.,  49.,  65., 263., 248., 296., 214., 185.,\n",
       "        78.,  93., 252., 150.,  77., 208.,  77., 108., 160.,  53., 220.,\n",
       "       154., 259.,  90., 246., 124.,  67.,  72., 257., 262., 275., 177.,\n",
       "        71.,  47., 187., 125.,  78.,  51., 258., 215., 303., 243.,  91.,\n",
       "       150., 310., 153., 346.,  63.,  89.,  50.,  39., 103., 308., 116.,\n",
       "       145.,  74.,  45., 115., 264.,  87., 202., 127., 182., 241.,  66.,\n",
       "        94., 283.,  64., 102., 200., 265.,  94., 230., 181., 156., 233.,\n",
       "        60., 219.,  80.,  68., 332., 248.,  84., 200.,  55.,  85.,  89.,\n",
       "        31., 129.,  83., 275.,  65., 198., 236., 253., 124.,  44., 172.,\n",
       "       114., 142., 109., 180., 144., 163., 147.,  97., 220., 190., 109.,\n",
       "       191., 122., 230., 242., 248., 249., 192., 131., 237.,  78., 135.,\n",
       "       244., 199., 270., 164.,  72.,  96., 306.,  91., 214.,  95., 216.,\n",
       "       263., 178., 113., 200., 139., 139.,  88., 148.,  88., 243.,  71.,\n",
       "        77., 109., 272.,  60.,  54., 221.,  90., 311., 281., 182., 321.,\n",
       "        58., 262., 206., 233., 242., 123., 167.,  63., 197.,  71., 168.,\n",
       "       140., 217., 121., 235., 245.,  40.,  52., 104., 132.,  88.,  69.,\n",
       "       219.,  72., 201., 110.,  51., 277.,  63., 118.,  69., 273., 258.,\n",
       "        43., 198., 242., 232., 175.,  93., 168., 275., 293., 281.,  72.,\n",
       "       140., 189., 181., 209., 136., 261., 113., 131., 174., 257.,  55.,\n",
       "        84.,  42., 146., 212., 233.,  91., 111., 152., 120.,  67., 310.,\n",
       "        94., 183.,  66., 173.,  72.,  49.,  64.,  48., 178., 104., 132.,\n",
       "       220.,  57.])"
      ]
     },
     "execution_count": 18,
     "metadata": {},
     "output_type": "execute_result"
    }
   ],
   "source": [
    "y = diabetes.target\n",
    "y"
   ]
  },
  {
   "cell_type": "code",
   "execution_count": 19,
   "metadata": {},
   "outputs": [],
   "source": [
    "# #input\n",
    "X = diabetes.data\n",
    "n_cols = X.shape[1]\n",
    "# # output\n",
    "y = target = diabetes.target\n"
   ]
  },
  {
   "cell_type": "markdown",
   "metadata": {
    "id": "j1Vsh6cm1Kdv"
   },
   "source": [
    "### Split the data (training/test)"
   ]
  },
  {
   "cell_type": "code",
   "execution_count": 20,
   "metadata": {
    "id": "O341llJz1Kdw"
   },
   "outputs": [],
   "source": [
    "# Create Model\n",
    "from sklearn.model_selection import train_test_split\n",
    "X_train, X_test, y_train, y_test = train_test_split(X, y, random_state=0)"
   ]
  },
  {
   "cell_type": "markdown",
   "metadata": {
    "id": "o4dJViJD1Kd0"
   },
   "source": [
    "### Create the model's architecture"
   ]
  },
  {
   "cell_type": "code",
   "execution_count": 21,
   "metadata": {
    "id": "Tkgf_BLl1Kd1"
   },
   "outputs": [],
   "source": [
    "# insert code here\n",
    "model = keras.models.Sequential()\n",
    "\n",
    "# Add the first hidden layer\n",
    "model.add(keras.layers.Dense(100, activation = 'relu', input_shape = (n_cols,)))\n",
    "# Add the second hidden layer\n",
    "model.add(keras.layers.Dense(50, activation = 'relu'))\n",
    "\n",
    "# Add the output layer\n",
    "model.add(keras.layers.Dense(10, activation = 'linear'))"
   ]
  },
  {
   "cell_type": "code",
   "execution_count": 22,
   "metadata": {},
   "outputs": [
    {
     "name": "stdout",
     "output_type": "stream",
     "text": [
      "Model: \"sequential\"\n",
      "_________________________________________________________________\n",
      "Layer (type)                 Output Shape              Param #   \n",
      "=================================================================\n",
      "dense (Dense)                (None, 100)               1100      \n",
      "_________________________________________________________________\n",
      "dense_1 (Dense)              (None, 50)                5050      \n",
      "_________________________________________________________________\n",
      "dense_2 (Dense)              (None, 10)                510       \n",
      "=================================================================\n",
      "Total params: 6,660\n",
      "Trainable params: 6,660\n",
      "Non-trainable params: 0\n",
      "_________________________________________________________________\n",
      "None\n"
     ]
    }
   ],
   "source": [
    "print(model.summary())"
   ]
  },
  {
   "cell_type": "markdown",
   "metadata": {
    "id": "5hQTS42V1Kd4"
   },
   "source": [
    "### Compile the model"
   ]
  },
  {
   "cell_type": "code",
   "execution_count": 23,
   "metadata": {
    "id": "BvLsoanF1Kd5"
   },
   "outputs": [],
   "source": [
    "# insert code here\n",
    "model.compile(\n",
    "    optimizer = 'adam',\n",
    "    loss = 'mse',\n",
    "    metrics = ['mse'])"
   ]
  },
  {
   "cell_type": "markdown",
   "metadata": {
    "id": "6KPQbnEj1Kd7"
   },
   "source": [
    "### Fit the training data"
   ]
  },
  {
   "cell_type": "code",
   "execution_count": 24,
   "metadata": {
    "id": "-oiuHjEj1Kd8"
   },
   "outputs": [
    {
     "name": "stdout",
     "output_type": "stream",
     "text": [
      "Epoch 1/100\n",
      "13/13 [==============================] - 0s 11ms/step - loss: 28651.1777 - mse: 28651.1777 - val_loss: 31330.8672 - val_mse: 31330.8672\n",
      "Epoch 2/100\n",
      "13/13 [==============================] - 0s 2ms/step - loss: 28624.4375 - mse: 28624.4375 - val_loss: 31288.7461 - val_mse: 31288.7461\n",
      "Epoch 3/100\n",
      "13/13 [==============================] - 0s 2ms/step - loss: 28566.4121 - mse: 28566.4121 - val_loss: 31197.8457 - val_mse: 31197.8457\n",
      "Epoch 4/100\n",
      "13/13 [==============================] - 0s 3ms/step - loss: 28446.0430 - mse: 28446.0430 - val_loss: 31012.3262 - val_mse: 31012.3262\n",
      "Epoch 5/100\n",
      "13/13 [==============================] - 0s 3ms/step - loss: 28211.9766 - mse: 28211.9766 - val_loss: 30674.4375 - val_mse: 30674.4375\n",
      "Epoch 6/100\n",
      "13/13 [==============================] - 0s 3ms/step - loss: 27808.2949 - mse: 27808.2949 - val_loss: 30108.6348 - val_mse: 30108.6348\n",
      "Epoch 7/100\n",
      "13/13 [==============================] - 0s 3ms/step - loss: 27146.9551 - mse: 27146.9551 - val_loss: 29243.3613 - val_mse: 29243.3613\n",
      "Epoch 8/100\n",
      "13/13 [==============================] - 0s 3ms/step - loss: 26194.7520 - mse: 26194.7520 - val_loss: 27987.8105 - val_mse: 27987.8105\n",
      "Epoch 9/100\n",
      "13/13 [==============================] - 0s 3ms/step - loss: 24830.7031 - mse: 24830.7031 - val_loss: 26340.9434 - val_mse: 26340.9434\n",
      "Epoch 10/100\n",
      "13/13 [==============================] - 0s 3ms/step - loss: 23124.2441 - mse: 23124.2441 - val_loss: 24213.2402 - val_mse: 24213.2402\n",
      "Epoch 11/100\n",
      "13/13 [==============================] - 0s 3ms/step - loss: 20965.7305 - mse: 20965.7305 - val_loss: 21698.1406 - val_mse: 21698.1406\n",
      "Epoch 12/100\n",
      "13/13 [==============================] - 0s 3ms/step - loss: 18542.6934 - mse: 18542.6934 - val_loss: 18829.8516 - val_mse: 18829.8516\n",
      "Epoch 13/100\n",
      "13/13 [==============================] - 0s 3ms/step - loss: 15843.7451 - mse: 15843.7451 - val_loss: 15851.7090 - val_mse: 15851.7109\n",
      "Epoch 14/100\n",
      "13/13 [==============================] - 0s 3ms/step - loss: 13063.1943 - mse: 13063.1943 - val_loss: 13019.2617 - val_mse: 13019.2617\n",
      "Epoch 15/100\n",
      "13/13 [==============================] - 0s 3ms/step - loss: 10525.0938 - mse: 10525.0938 - val_loss: 10323.7881 - val_mse: 10323.7881\n",
      "Epoch 16/100\n",
      "13/13 [==============================] - 0s 2ms/step - loss: 8272.1963 - mse: 8272.1963 - val_loss: 8130.8740 - val_mse: 8130.8740\n",
      "Epoch 17/100\n",
      "13/13 [==============================] - 0s 3ms/step - loss: 6607.7251 - mse: 6607.7251 - val_loss: 6552.4204 - val_mse: 6552.4204\n",
      "Epoch 18/100\n",
      "13/13 [==============================] - 0s 2ms/step - loss: 5525.8389 - mse: 5525.8389 - val_loss: 5520.4126 - val_mse: 5520.4126\n",
      "Epoch 19/100\n",
      "13/13 [==============================] - 0s 2ms/step - loss: 4841.0752 - mse: 4841.0752 - val_loss: 4929.7046 - val_mse: 4929.7046\n",
      "Epoch 20/100\n",
      "13/13 [==============================] - 0s 2ms/step - loss: 4484.3213 - mse: 4484.3213 - val_loss: 4617.2739 - val_mse: 4617.2739\n",
      "Epoch 21/100\n",
      "13/13 [==============================] - 0s 3ms/step - loss: 4322.7466 - mse: 4322.7466 - val_loss: 4398.2461 - val_mse: 4398.2461\n",
      "Epoch 22/100\n",
      "13/13 [==============================] - 0s 2ms/step - loss: 4203.6558 - mse: 4203.6558 - val_loss: 4255.4580 - val_mse: 4255.4580\n",
      "Epoch 23/100\n",
      "13/13 [==============================] - 0s 3ms/step - loss: 4109.1963 - mse: 4109.1963 - val_loss: 4141.6582 - val_mse: 4141.6582\n",
      "Epoch 24/100\n",
      "13/13 [==============================] - 0s 3ms/step - loss: 4033.1013 - mse: 4033.1013 - val_loss: 4026.4966 - val_mse: 4026.4966\n",
      "Epoch 25/100\n",
      "13/13 [==============================] - 0s 3ms/step - loss: 3962.9265 - mse: 3962.9265 - val_loss: 3937.5061 - val_mse: 3937.5061\n",
      "Epoch 26/100\n",
      "13/13 [==============================] - 0s 3ms/step - loss: 3907.3289 - mse: 3907.3289 - val_loss: 3863.5293 - val_mse: 3863.5293\n",
      "Epoch 27/100\n",
      "13/13 [==============================] - 0s 2ms/step - loss: 3843.9421 - mse: 3843.9421 - val_loss: 3787.0945 - val_mse: 3787.0945\n",
      "Epoch 28/100\n",
      "13/13 [==============================] - 0s 2ms/step - loss: 3793.4741 - mse: 3793.4741 - val_loss: 3721.5522 - val_mse: 3721.5522\n",
      "Epoch 29/100\n",
      "13/13 [==============================] - 0s 3ms/step - loss: 3749.7043 - mse: 3749.7043 - val_loss: 3662.3096 - val_mse: 3662.3096\n",
      "Epoch 30/100\n",
      "13/13 [==============================] - 0s 2ms/step - loss: 3709.5225 - mse: 3709.5225 - val_loss: 3610.0842 - val_mse: 3610.0842\n",
      "Epoch 31/100\n",
      "13/13 [==============================] - 0s 3ms/step - loss: 3667.2676 - mse: 3667.2676 - val_loss: 3555.7522 - val_mse: 3555.7522\n",
      "Epoch 32/100\n",
      "13/13 [==============================] - 0s 2ms/step - loss: 3635.8298 - mse: 3635.8298 - val_loss: 3509.3623 - val_mse: 3509.3623\n",
      "Epoch 33/100\n",
      "13/13 [==============================] - 0s 3ms/step - loss: 3599.5881 - mse: 3599.5881 - val_loss: 3466.4485 - val_mse: 3466.4485\n",
      "Epoch 34/100\n",
      "13/13 [==============================] - 0s 3ms/step - loss: 3566.0298 - mse: 3566.0298 - val_loss: 3433.6953 - val_mse: 3433.6953\n",
      "Epoch 35/100\n",
      "13/13 [==============================] - 0s 3ms/step - loss: 3538.4619 - mse: 3538.4619 - val_loss: 3399.8965 - val_mse: 3399.8965\n",
      "Epoch 36/100\n",
      "13/13 [==============================] - 0s 3ms/step - loss: 3513.2537 - mse: 3513.2542 - val_loss: 3370.8262 - val_mse: 3370.8262\n",
      "Epoch 37/100\n",
      "13/13 [==============================] - 0s 2ms/step - loss: 3486.5906 - mse: 3486.5906 - val_loss: 3324.5833 - val_mse: 3324.5833\n",
      "Epoch 38/100\n",
      "13/13 [==============================] - 0s 3ms/step - loss: 3457.4822 - mse: 3457.4822 - val_loss: 3295.9138 - val_mse: 3295.9138\n",
      "Epoch 39/100\n",
      "13/13 [==============================] - 0s 2ms/step - loss: 3433.7246 - mse: 3433.7246 - val_loss: 3269.0530 - val_mse: 3269.0530\n",
      "Epoch 40/100\n",
      "13/13 [==============================] - 0s 2ms/step - loss: 3407.3701 - mse: 3407.3701 - val_loss: 3234.3896 - val_mse: 3234.3896\n",
      "Epoch 41/100\n",
      "13/13 [==============================] - 0s 2ms/step - loss: 3384.1101 - mse: 3384.1101 - val_loss: 3205.2495 - val_mse: 3205.2495\n",
      "Epoch 42/100\n",
      "13/13 [==============================] - 0s 2ms/step - loss: 3363.6052 - mse: 3363.6052 - val_loss: 3177.6699 - val_mse: 3177.6699\n",
      "Epoch 43/100\n",
      "13/13 [==============================] - 0s 2ms/step - loss: 3341.2961 - mse: 3341.2961 - val_loss: 3157.1550 - val_mse: 3157.1550\n",
      "Epoch 44/100\n",
      "13/13 [==============================] - 0s 2ms/step - loss: 3319.4048 - mse: 3319.4048 - val_loss: 3124.0996 - val_mse: 3124.0996\n",
      "Epoch 45/100\n",
      "13/13 [==============================] - 0s 2ms/step - loss: 3295.5486 - mse: 3295.5486 - val_loss: 3106.2766 - val_mse: 3106.2766\n",
      "Epoch 46/100\n",
      "13/13 [==============================] - 0s 2ms/step - loss: 3281.1978 - mse: 3281.1980 - val_loss: 3090.4421 - val_mse: 3090.4421\n",
      "Epoch 47/100\n",
      "13/13 [==============================] - 0s 2ms/step - loss: 3259.6963 - mse: 3259.6963 - val_loss: 3054.5513 - val_mse: 3054.5513\n",
      "Epoch 48/100\n",
      "13/13 [==============================] - 0s 2ms/step - loss: 3239.1887 - mse: 3239.1887 - val_loss: 3039.1411 - val_mse: 3039.1411\n",
      "Epoch 49/100\n",
      "13/13 [==============================] - 0s 2ms/step - loss: 3229.2922 - mse: 3229.2922 - val_loss: 3023.0935 - val_mse: 3023.0935\n",
      "Epoch 50/100\n",
      "13/13 [==============================] - 0s 2ms/step - loss: 3213.9412 - mse: 3213.9409 - val_loss: 3002.4783 - val_mse: 3002.4783\n",
      "Epoch 51/100\n",
      "13/13 [==============================] - 0s 2ms/step - loss: 3193.6501 - mse: 3193.6504 - val_loss: 2989.8186 - val_mse: 2989.8186\n",
      "Epoch 52/100\n",
      "13/13 [==============================] - 0s 2ms/step - loss: 3174.2344 - mse: 3174.2344 - val_loss: 2971.3618 - val_mse: 2971.3618\n",
      "Epoch 53/100\n",
      "13/13 [==============================] - 0s 2ms/step - loss: 3163.5852 - mse: 3163.5852 - val_loss: 2951.7957 - val_mse: 2951.7957\n",
      "Epoch 54/100\n",
      "13/13 [==============================] - 0s 2ms/step - loss: 3147.7024 - mse: 3147.7024 - val_loss: 2936.1619 - val_mse: 2936.1619\n",
      "Epoch 55/100\n",
      "13/13 [==============================] - 0s 2ms/step - loss: 3132.3032 - mse: 3132.3032 - val_loss: 2923.0322 - val_mse: 2923.0322\n",
      "Epoch 56/100\n",
      "13/13 [==============================] - 0s 2ms/step - loss: 3117.9834 - mse: 3117.9836 - val_loss: 2915.7998 - val_mse: 2915.7998\n",
      "Epoch 57/100\n",
      "13/13 [==============================] - 0s 2ms/step - loss: 3107.0308 - mse: 3107.0308 - val_loss: 2908.0828 - val_mse: 2908.0828\n",
      "Epoch 58/100\n",
      "13/13 [==============================] - 0s 2ms/step - loss: 3108.3066 - mse: 3108.3066 - val_loss: 2886.2002 - val_mse: 2886.2002\n",
      "Epoch 59/100\n",
      "13/13 [==============================] - 0s 2ms/step - loss: 3085.8152 - mse: 3085.8152 - val_loss: 2876.6335 - val_mse: 2876.6335\n",
      "Epoch 60/100\n",
      "13/13 [==============================] - 0s 2ms/step - loss: 3077.3904 - mse: 3077.3904 - val_loss: 2868.0371 - val_mse: 2868.0371\n",
      "Epoch 61/100\n",
      "13/13 [==============================] - 0s 2ms/step - loss: 3065.4092 - mse: 3065.4087 - val_loss: 2862.8562 - val_mse: 2862.8562\n",
      "Epoch 62/100\n",
      "13/13 [==============================] - 0s 2ms/step - loss: 3056.4377 - mse: 3056.4377 - val_loss: 2854.6919 - val_mse: 2854.6919\n",
      "Epoch 63/100\n",
      "13/13 [==============================] - 0s 2ms/step - loss: 3046.9949 - mse: 3046.9951 - val_loss: 2837.4683 - val_mse: 2837.4683\n",
      "Epoch 64/100\n",
      "13/13 [==============================] - 0s 2ms/step - loss: 3043.2124 - mse: 3043.2124 - val_loss: 2830.6780 - val_mse: 2830.6780\n",
      "Epoch 65/100\n",
      "13/13 [==============================] - 0s 2ms/step - loss: 3038.0374 - mse: 3038.0374 - val_loss: 2817.7002 - val_mse: 2817.7002\n",
      "Epoch 66/100\n",
      "13/13 [==============================] - 0s 2ms/step - loss: 3023.6782 - mse: 3023.6782 - val_loss: 2817.0811 - val_mse: 2817.0811\n",
      "Epoch 67/100\n",
      "13/13 [==============================] - 0s 2ms/step - loss: 3012.9128 - mse: 3012.9128 - val_loss: 2807.2822 - val_mse: 2807.2822\n",
      "Epoch 68/100\n",
      "13/13 [==============================] - 0s 2ms/step - loss: 3005.5132 - mse: 3005.5132 - val_loss: 2797.0129 - val_mse: 2797.0129\n",
      "Epoch 69/100\n",
      "13/13 [==============================] - 0s 2ms/step - loss: 3004.9749 - mse: 3004.9749 - val_loss: 2791.2534 - val_mse: 2791.2534\n",
      "Epoch 70/100\n",
      "13/13 [==============================] - 0s 2ms/step - loss: 2995.4963 - mse: 2995.4963 - val_loss: 2793.0095 - val_mse: 2793.0090\n",
      "Epoch 71/100\n",
      "13/13 [==============================] - 0s 2ms/step - loss: 2994.7996 - mse: 2994.7996 - val_loss: 2789.1765 - val_mse: 2789.1765\n",
      "Epoch 72/100\n",
      "13/13 [==============================] - 0s 2ms/step - loss: 2980.8572 - mse: 2980.8572 - val_loss: 2774.1567 - val_mse: 2774.1567\n",
      "Epoch 73/100\n",
      "13/13 [==============================] - 0s 2ms/step - loss: 2983.7551 - mse: 2983.7551 - val_loss: 2754.3601 - val_mse: 2754.3599\n",
      "Epoch 74/100\n",
      "13/13 [==============================] - 0s 2ms/step - loss: 2973.3416 - mse: 2973.3416 - val_loss: 2754.0835 - val_mse: 2754.0835\n",
      "Epoch 75/100\n",
      "13/13 [==============================] - 0s 2ms/step - loss: 2963.6194 - mse: 2963.6194 - val_loss: 2743.8813 - val_mse: 2743.8813\n",
      "Epoch 76/100\n",
      "13/13 [==============================] - 0s 2ms/step - loss: 2959.3120 - mse: 2959.3120 - val_loss: 2740.9778 - val_mse: 2740.9780\n",
      "Epoch 77/100\n",
      "13/13 [==============================] - 0s 2ms/step - loss: 2957.3628 - mse: 2957.3628 - val_loss: 2741.8167 - val_mse: 2741.8167\n",
      "Epoch 78/100\n",
      "13/13 [==============================] - 0s 2ms/step - loss: 2951.9712 - mse: 2951.9712 - val_loss: 2733.3210 - val_mse: 2733.3210\n",
      "Epoch 79/100\n",
      "13/13 [==============================] - 0s 2ms/step - loss: 2948.0598 - mse: 2948.0598 - val_loss: 2728.1035 - val_mse: 2728.1035\n",
      "Epoch 80/100\n",
      "13/13 [==============================] - 0s 2ms/step - loss: 2944.5984 - mse: 2944.5984 - val_loss: 2718.8989 - val_mse: 2718.8989\n",
      "Epoch 81/100\n",
      "13/13 [==============================] - 0s 2ms/step - loss: 2945.2002 - mse: 2945.2002 - val_loss: 2711.6780 - val_mse: 2711.6780\n",
      "Epoch 82/100\n",
      "13/13 [==============================] - 0s 2ms/step - loss: 2938.7737 - mse: 2938.7737 - val_loss: 2711.8931 - val_mse: 2711.8931\n",
      "Epoch 83/100\n",
      "13/13 [==============================] - 0s 2ms/step - loss: 2936.1802 - mse: 2936.1802 - val_loss: 2703.9243 - val_mse: 2703.9243\n",
      "Epoch 84/100\n",
      "13/13 [==============================] - 0s 2ms/step - loss: 2932.6604 - mse: 2932.6604 - val_loss: 2707.3420 - val_mse: 2707.3420\n",
      "Epoch 85/100\n",
      "13/13 [==============================] - 0s 2ms/step - loss: 2925.7754 - mse: 2925.7754 - val_loss: 2695.1995 - val_mse: 2695.1995\n",
      "Epoch 86/100\n",
      "13/13 [==============================] - 0s 2ms/step - loss: 2934.7056 - mse: 2934.7056 - val_loss: 2701.0298 - val_mse: 2701.0298\n",
      "Epoch 87/100\n",
      "13/13 [==============================] - 0s 2ms/step - loss: 2921.7837 - mse: 2921.7837 - val_loss: 2690.2593 - val_mse: 2690.2593\n",
      "Epoch 88/100\n",
      "13/13 [==============================] - 0s 2ms/step - loss: 2920.2034 - mse: 2920.2034 - val_loss: 2696.6328 - val_mse: 2696.6328\n",
      "Epoch 89/100\n",
      "13/13 [==============================] - 0s 2ms/step - loss: 2919.6047 - mse: 2919.6047 - val_loss: 2699.0854 - val_mse: 2699.0854\n",
      "Epoch 90/100\n",
      "13/13 [==============================] - 0s 2ms/step - loss: 2915.3137 - mse: 2915.3137 - val_loss: 2695.1558 - val_mse: 2695.1558\n",
      "Epoch 91/100\n",
      "13/13 [==============================] - 0s 2ms/step - loss: 2912.9441 - mse: 2912.9441 - val_loss: 2690.7566 - val_mse: 2690.7566\n",
      "Epoch 92/100\n",
      "13/13 [==============================] - 0s 2ms/step - loss: 2911.2034 - mse: 2911.2034 - val_loss: 2688.0137 - val_mse: 2688.0137\n",
      "Epoch 93/100\n",
      "13/13 [==============================] - 0s 2ms/step - loss: 2919.2468 - mse: 2919.2468 - val_loss: 2674.1926 - val_mse: 2674.1926\n",
      "Epoch 94/100\n",
      "13/13 [==============================] - 0s 2ms/step - loss: 2907.9509 - mse: 2907.9509 - val_loss: 2674.5054 - val_mse: 2674.5054\n",
      "Epoch 95/100\n",
      "13/13 [==============================] - 0s 2ms/step - loss: 2907.3674 - mse: 2907.3674 - val_loss: 2680.4993 - val_mse: 2680.4993\n",
      "Epoch 96/100\n",
      "13/13 [==============================] - 0s 2ms/step - loss: 2903.8054 - mse: 2903.8054 - val_loss: 2673.9880 - val_mse: 2673.9880\n",
      "Epoch 97/100\n",
      "13/13 [==============================] - 0s 2ms/step - loss: 2910.5459 - mse: 2910.5459 - val_loss: 2665.2568 - val_mse: 2665.2568\n",
      "Epoch 98/100\n",
      "13/13 [==============================] - 0s 2ms/step - loss: 2904.0325 - mse: 2904.0325 - val_loss: 2664.5854 - val_mse: 2664.5854\n",
      "Epoch 99/100\n",
      "13/13 [==============================] - 0s 2ms/step - loss: 2909.5969 - mse: 2909.5969 - val_loss: 2691.1892 - val_mse: 2691.1892\n",
      "Epoch 100/100\n",
      "13/13 [==============================] - 0s 2ms/step - loss: 2903.7371 - mse: 2903.7371 - val_loss: 2682.6904 - val_mse: 2682.6904\n",
      "CPU times: user 4.25 s, sys: 1.05 s, total: 5.29 s\n",
      "Wall time: 3.48 s\n"
     ]
    }
   ],
   "source": [
    "%%time\n",
    "# insert code here\n",
    "history = model.fit(\n",
    "    X_train,\n",
    "    y_train,\n",
    "    validation_split = 0.25,\n",
    "    batch_size = 20,\n",
    "    epochs = 100,\n",
    "    verbose = 1)"
   ]
  },
  {
   "cell_type": "markdown",
   "metadata": {
    "id": "CR-kCu3c1Kd-"
   },
   "source": [
    "### Create predictions"
   ]
  },
  {
   "cell_type": "code",
   "execution_count": 25,
   "metadata": {
    "id": "wkywKqPg1Kd-"
   },
   "outputs": [],
   "source": [
    "# insert code here\n",
    "predictions = model.predict(X_test)"
   ]
  },
  {
   "cell_type": "markdown",
   "metadata": {
    "id": "-unEmrGo1KeA"
   },
   "source": [
    "### Evaluate the model"
   ]
  },
  {
   "cell_type": "code",
   "execution_count": 26,
   "metadata": {
    "id": "QCIVpVrG1KeB"
   },
   "outputs": [
    {
     "name": "stdout",
     "output_type": "stream",
     "text": [
      "4/4 [==============================] - 0s 909us/step - loss: 3100.6050 - mse: 3100.6050\n",
      "mse = [3100.60498046875, 3100.60498046875]\n",
      "rmse = 55.68307624825293\n"
     ]
    }
   ],
   "source": [
    "score = model.evaluate(X_test, y_test)\n",
    "rmse = score[0] ** 0.5\n",
    "print('mse = '+ str(score))\n",
    "print('rmse = '+ str(rmse))"
   ]
  },
  {
   "cell_type": "markdown",
   "metadata": {
    "id": "sSlqjs7e1KeD"
   },
   "source": [
    "### Visualisation of cost"
   ]
  },
  {
   "cell_type": "code",
   "execution_count": 27,
   "metadata": {
    "id": "1F6hYpNh1KeE",
    "scrolled": true
   },
   "outputs": [
    {
     "data": {
      "image/png": "[encoded data removed]",
      "text/plain": [
       "<Figure size 1296x432 with 2 Axes>"
      ]
     },
     "metadata": {
      "needs_background": "light"
     },
     "output_type": "display_data"
    }
   ],
   "source": [
    "# insert code here\n",
    "fig, ax = plt.subplots(1, 2, figsize = (18, 6))\n",
    "fig.subplots_adjust(left = 0.02, right = 0.98, wspace = 0.2)\n",
    "\n",
    "plt.rcParams.update({'font.size': 18})\n",
    "\n",
    "# Plot training & validation accuracy values\n",
    "ax[0].plot(history.history['mse'], label = 'Training')\n",
    "ax[0].plot(history.history['val_mse'], label = 'Validation')\n",
    "ax[0].set_title('Model mse')\n",
    "ax[0].set_ylabel('MSE')\n",
    "ax[0].set_xlabel('Epoch')\n",
    "ax[0].legend()\n",
    "\n",
    "# Plot training & validation loss values\n",
    "ax[1].plot(history.history['loss'], label = 'Training')\n",
    "ax[1].plot(history.history['val_loss'], label = 'Validation')\n",
    "ax[1].set_title('Model loss')\n",
    "ax[1].set_ylabel('Loss')\n",
    "ax[1].set_xlabel('Epoch')\n",
    "ax[1].legend()\n",
    "\n",
    "plt.show()"
   ]
  },
  {
   "cell_type": "markdown",
   "metadata": {
    "id": "vQLzMZTM1KeG"
   },
   "source": [
    "### Visualisation of residuals"
   ]
  },
  {
   "cell_type": "code",
   "execution_count": 28,
   "metadata": {
    "id": "opIulVSw1KeH"
   },
   "outputs": [
    {
     "data": {
      "image/png": "[encoded data removed]",
      "text/plain": [
       "<Figure size 432x288 with 2 Axes>"
      ]
     },
     "metadata": {
      "needs_background": "light"
     },
     "output_type": "display_data"
    },
    {
     "data": {
      "text/plain": [
       "<AxesSubplot:title={'center':'Residuals for Ridge Model'}, xlabel='Predicted Value', ylabel='Residuals'>"
      ]
     },
     "execution_count": 28,
     "metadata": {},
     "output_type": "execute_result"
    }
   ],
   "source": [
    "# insert code here\n",
    "from sklearn.linear_model import Ridge\n",
    "# # from yellowbrick.datasets import load_concrete\n",
    "from yellowbrick.regressor import ResidualsPlot\n",
    "\n",
    "model = Ridge()\n",
    "visualizer = ResidualsPlot(model)\n",
    "\n",
    "visualizer.fit(X_train, y_train)  # Fit the training data to the visualizer\n",
    "visualizer.score(X_test, y_test)  # Evaluate the model on the test data\n",
    "visualizer.show()"
   ]
  },
  {
   "cell_type": "code",
   "execution_count": 29,
   "metadata": {},
   "outputs": [
    {
     "name": "stdout",
     "output_type": "stream",
     "text": [
      "Requirement already satisfied: yellowbrick in /opt/anaconda3/lib/python3.8/site-packages (1.3.post1)\n",
      "Requirement already satisfied: cycler>=0.10.0 in /opt/anaconda3/lib/python3.8/site-packages (from yellowbrick) (0.10.0)\n",
      "Requirement already satisfied: matplotlib!=3.0.0,>=2.0.2 in /opt/anaconda3/lib/python3.8/site-packages (from yellowbrick) (3.3.2)\n",
      "Requirement already satisfied: scikit-learn>=0.20 in /opt/anaconda3/lib/python3.8/site-packages (from yellowbrick) (0.23.2)\n",
      "Requirement already satisfied: scipy>=1.0.0 in /opt/anaconda3/lib/python3.8/site-packages (from yellowbrick) (1.5.2)\n",
      "Requirement already satisfied: numpy<1.20,>=1.16.0 in /opt/anaconda3/lib/python3.8/site-packages (from yellowbrick) (1.18.5)\n",
      "Requirement already satisfied: six in /opt/anaconda3/lib/python3.8/site-packages (from cycler>=0.10.0->yellowbrick) (1.15.0)\n",
      "Requirement already satisfied: kiwisolver>=1.0.1 in /opt/anaconda3/lib/python3.8/site-packages (from matplotlib!=3.0.0,>=2.0.2->yellowbrick) (1.3.0)\n",
      "Requirement already satisfied: pillow>=6.2.0 in /opt/anaconda3/lib/python3.8/site-packages (from matplotlib!=3.0.0,>=2.0.2->yellowbrick) (8.0.1)\n",
      "Requirement already satisfied: certifi>=2020.06.20 in /opt/anaconda3/lib/python3.8/site-packages (from matplotlib!=3.0.0,>=2.0.2->yellowbrick) (2020.6.20)\n",
      "Requirement already satisfied: pyparsing!=2.0.4,!=2.1.2,!=2.1.6,>=2.0.3 in /opt/anaconda3/lib/python3.8/site-packages (from matplotlib!=3.0.0,>=2.0.2->yellowbrick) (2.4.7)\n",
      "Requirement already satisfied: python-dateutil>=2.1 in /opt/anaconda3/lib/python3.8/site-packages (from matplotlib!=3.0.0,>=2.0.2->yellowbrick) (2.8.1)\n",
      "Requirement already satisfied: threadpoolctl>=2.0.0 in /opt/anaconda3/lib/python3.8/site-packages (from scikit-learn>=0.20->yellowbrick) (2.1.0)\n",
      "Requirement already satisfied: joblib>=0.11 in /opt/anaconda3/lib/python3.8/site-packages (from scikit-learn>=0.20->yellowbrick) (0.17.0)\n"
     ]
    }
   ],
   "source": [
    "!pip install yellowbrick"
   ]
  },
  {
   "cell_type": "markdown",
   "metadata": {
    "id": "RERADKgNFq9T"
   },
   "source": [
    "\n",
    "\n",
    "---\n",
    "\n",
    "\n",
    "\n",
    "---\n",
    "\n",
    "\n",
    "\n",
    "> > > > > > > > > © 2021 Institute of Data\n",
    "\n",
    "\n",
    "---\n",
    "\n",
    "\n",
    "\n",
    "---\n",
    "\n",
    "\n",
    "\n"
   ]
  }
 ],
 "metadata": {
  "colab": {
   "collapsed_sections": [],
   "name": "IOD_Lab-9_1.ipynb",
   "provenance": []
  },
  "kernelspec": {
   "display_name": "Python 3",
   "language": "python",
   "name": "python3"
  },
  "language_info": {
   "codemirror_mode": {
    "name": "ipython",
    "version": 3
   },
   "file_extension": ".py",
   "mimetype": "text/x-python",
   "name": "python",
   "nbconvert_exporter": "python",
   "pygments_lexer": "ipython3",
   "version": "3.8.5"
  }
 },
 "nbformat": 4,
 "nbformat_minor": 1
}
